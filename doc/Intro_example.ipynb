{
 "cells": [
  {
   "cell_type": "markdown",
   "metadata": {},
   "source": [
    "# How to use the mb_modelbase package on real data\n",
    "\n",
    "Welcome to a short introductory example of the mb_modelbase package. Usually mb_modelbase is a part of the Moo-Software and is used as the backend but it can also used without the frontend as a standalone software. \n",
    "\n",
    "## The Allbus2016 data set\n",
    "\n",
    "For the introduction we will use The German General Social Survey [ALLBUS](https://www.gesis.org/en/allbus/allbus-home/). It is from the Leibniz Institute for the Social Sciences (GESIS) and contains all different kinds of variables of a single person like sex, age, income, place of residence, political attitude ... and so on. We would like to learn models on a small subset and execute some operations mb_modelbase to get a brief overview over the functions of mb_modelbase and how to handle them.\n",
    "\n",
    "Let us import the data set and have a first view:"
   ]
  },
  {
   "cell_type": "code",
   "execution_count": 20,
   "metadata": {},
   "outputs": [
    {
     "data": {
      "text/html": [
       "<div>\n",
       "<style>\n",
       "    .dataframe thead tr:only-child th {\n",
       "        text-align: right;\n",
       "    }\n",
       "\n",
       "    .dataframe thead th {\n",
       "        text-align: left;\n",
       "    }\n",
       "\n",
       "    .dataframe tbody tr th {\n",
       "        vertical-align: top;\n",
       "    }\n",
       "</style>\n",
       "<table border=\"1\" class=\"dataframe\">\n",
       "  <thead>\n",
       "    <tr style=\"text-align: right;\">\n",
       "      <th></th>\n",
       "      <th>age</th>\n",
       "      <th>sex</th>\n",
       "      <th>educ</th>\n",
       "      <th>income</th>\n",
       "      <th>eastwest</th>\n",
       "      <th>happiness</th>\n",
       "      <th>health</th>\n",
       "      <th>lived_abroad</th>\n",
       "      <th>spectrum</th>\n",
       "    </tr>\n",
       "  </thead>\n",
       "  <tbody>\n",
       "    <tr>\n",
       "      <th>0</th>\n",
       "      <td>47</td>\n",
       "      <td>Female</td>\n",
       "      <td>3</td>\n",
       "      <td>1800</td>\n",
       "      <td>East</td>\n",
       "      <td>9</td>\n",
       "      <td>3</td>\n",
       "      <td>No</td>\n",
       "      <td>Left</td>\n",
       "    </tr>\n",
       "    <tr>\n",
       "      <th>1</th>\n",
       "      <td>52</td>\n",
       "      <td>Male</td>\n",
       "      <td>3</td>\n",
       "      <td>2000</td>\n",
       "      <td>East</td>\n",
       "      <td>8</td>\n",
       "      <td>3</td>\n",
       "      <td>No</td>\n",
       "      <td>Center-right</td>\n",
       "    </tr>\n",
       "    <tr>\n",
       "      <th>2</th>\n",
       "      <td>61</td>\n",
       "      <td>Male</td>\n",
       "      <td>2</td>\n",
       "      <td>2500</td>\n",
       "      <td>West</td>\n",
       "      <td>9</td>\n",
       "      <td>4</td>\n",
       "      <td>No</td>\n",
       "      <td>Center-right</td>\n",
       "    </tr>\n",
       "    <tr>\n",
       "      <th>3</th>\n",
       "      <td>54</td>\n",
       "      <td>Female</td>\n",
       "      <td>2</td>\n",
       "      <td>860</td>\n",
       "      <td>West</td>\n",
       "      <td>3</td>\n",
       "      <td>2</td>\n",
       "      <td>Yes</td>\n",
       "      <td>Left</td>\n",
       "    </tr>\n",
       "    <tr>\n",
       "      <th>4</th>\n",
       "      <td>49</td>\n",
       "      <td>Male</td>\n",
       "      <td>3</td>\n",
       "      <td>2500</td>\n",
       "      <td>West</td>\n",
       "      <td>7</td>\n",
       "      <td>5</td>\n",
       "      <td>No</td>\n",
       "      <td>Center-right</td>\n",
       "    </tr>\n",
       "  </tbody>\n",
       "</table>\n",
       "</div>"
      ],
      "text/plain": [
       "   age     sex  educ  income eastwest  happiness  health lived_abroad  \\\n",
       "0   47  Female     3    1800     East          9       3           No   \n",
       "1   52    Male     3    2000     East          8       3           No   \n",
       "2   61    Male     2    2500     West          9       4           No   \n",
       "3   54  Female     2     860     West          3       2          Yes   \n",
       "4   49    Male     3    2500     West          7       5           No   \n",
       "\n",
       "       spectrum  \n",
       "0          Left  \n",
       "1  Center-right  \n",
       "2  Center-right  \n",
       "3          Left  \n",
       "4  Center-right  "
      ]
     },
     "execution_count": 20,
     "metadata": {},
     "output_type": "execute_result"
    }
   ],
   "source": [
    "import pandas as pd\n",
    "dataset = pd.read_csv('allbus2016.csv', index_col=0)\n",
    "dataset.head()"
   ]
  },
  {
   "cell_type": "markdown",
   "metadata": {},
   "source": [
    "We see a data set with 9 variables, 5 continuous and 4 categorical."
   ]
  },
  {
   "cell_type": "markdown",
   "metadata": {},
   "source": [
    "## Fitting a model and using some basic functions\n",
    "First step is to import the mb_modelbase package:"
   ]
  },
  {
   "cell_type": "code",
   "execution_count": 21,
   "metadata": {
    "collapsed": true
   },
   "outputs": [],
   "source": [
    "import mb_modelbase as mbase"
   ]
  },
  {
   "cell_type": "markdown",
   "metadata": {},
   "source": [
    "Now we can create an object of a model and fit the data to it. Of course it is hard to validate if the model class make sense or not from here without visual output."
   ]
  },
  {
   "cell_type": "code",
   "execution_count": 74,
   "metadata": {},
   "outputs": [
    {
     "name": "stdout",
     "output_type": "stream",
     "text": [
      "** Mean parameters (direct) **\n",
      "p [[[[ 0.02696729  0.04553492  0.0464191   0.02122016]\n",
      "   [ 0.00442087  0.00486295  0.00839965  0.00088417]]\n",
      "\n",
      "  [[ 0.07073386  0.1061008   0.06189213  0.01635721]\n",
      "   [ 0.01282051  0.02431477  0.02740937  0.00265252]]]\n",
      "\n",
      "\n",
      " [[[ 0.0331565   0.04995579  0.0397878   0.03669319]\n",
      "   [ 0.00530504  0.0066313   0.00839965  0.00397878]]\n",
      "\n",
      "  [[ 0.06233422  0.11229001  0.04774536  0.03271441]\n",
      "   [ 0.01768347  0.02873563  0.02431477  0.00928382]]]]\n",
      "mu [[[[[  4.73267587e-01  -4.08958076e-01  -4.39004154e-01  -9.13167593e-02\n",
      "      -1.09583756e-01]\n",
      "    [  2.32078066e-01  -6.83576478e-02  -3.54460872e-01   1.03842158e-01\n",
      "      -1.39625065e-01]\n",
      "    [  1.05495343e-01   8.68477206e-02  -4.04647106e-01  -3.02295423e-01\n",
      "      -1.86985197e-01]\n",
      "    [ -1.10726875e-01  -3.04921039e-01  -5.36704952e-01  -5.27018977e-01\n",
      "      -4.12939247e-01]]\n",
      "\n",
      "   [[  2.30468909e-01   4.01866311e-01  -2.08318517e-01   5.50211429e-01\n",
      "       2.51777922e-01]\n",
      "    [ -2.04221267e-01   2.51715343e-01  -5.52032249e-01  -3.81203960e-01\n",
      "      -1.92722751e-01]\n",
      "    [ -2.97268596e-01   7.80135582e-01   1.12942113e-01  -2.09247436e-01\n",
      "       2.12089984e-01]\n",
      "    [ -9.28908911e-01   6.47337177e-01  -1.37220359e-01   4.96058388e-02\n",
      "       6.98681478e-01]]]\n",
      "\n",
      "\n",
      "  [[[ -1.13823848e-01  -1.65884906e-01  -3.25012185e-01   1.59807664e-01\n",
      "       6.21664136e-02]\n",
      "    [  1.24536028e-01  -1.17245872e-01  -3.08623238e-01   1.66015930e-01\n",
      "       5.45999954e-02]\n",
      "    [ -2.27336625e-01   2.00998356e-01  -3.71717452e-01   1.47887407e-01\n",
      "       1.80363306e-01]\n",
      "    [ -3.87387515e-01  -5.05398730e-01  -3.78491235e-01  -3.55047647e-01\n",
      "      -2.44324572e-01]]\n",
      "\n",
      "   [[ -4.50066558e-01   4.60367713e-01  -3.59489461e-01   4.53401643e-01\n",
      "       3.78013727e-01]\n",
      "    [ -1.67422192e-01   6.23451880e-01  -1.04241611e-01   5.26902322e-01\n",
      "       4.02683936e-01]\n",
      "    [ -4.67336460e-01   7.12915002e-01  -1.03035062e-01   1.16197010e-01\n",
      "       3.52752739e-01]\n",
      "    [ -4.59398566e-01   8.93796924e-02  -5.07047407e-01  -4.93474751e-01\n",
      "      -6.79586891e-01]]]]\n",
      "\n",
      "\n",
      "\n",
      " [[[[  3.28473765e-01  -4.76691693e-04  -2.97556989e-02  -2.50233898e-02\n",
      "      -6.96907335e-02]\n",
      "    [  1.73403980e-01  -1.05357301e-01   6.80744554e-02  -1.51501756e-01\n",
      "       3.19968391e-02]\n",
      "    [  8.44310021e-02  -5.79129695e-02  -1.96649852e-01  -4.33230067e-01\n",
      "      -2.61049572e-01]\n",
      "    [ -2.38517929e-03  -3.76361594e-01  -2.44979253e-01  -5.19784273e-01\n",
      "      -2.19135796e-01]]\n",
      "\n",
      "   [[ -2.17861520e-01   2.67948908e-01  -2.28635206e-01  -1.49118941e-01\n",
      "      -2.27857065e-01]\n",
      "    [ -5.42032489e-01   1.90575253e-01   6.51447784e-01   3.99878179e-01\n",
      "       4.32469852e-01]\n",
      "    [  5.25896380e-02   6.01576376e-01  -3.37083900e-03  -4.51837394e-01\n",
      "       2.65029391e-01]\n",
      "    [  1.31408876e-01   3.02665417e-01   4.64779383e-02  -1.67879019e-01\n",
      "       1.24490696e-01]]]\n",
      "\n",
      "\n",
      "  [[[  4.23381269e-02  -2.66453177e-01   3.36497778e-01   9.44218704e-02\n",
      "      -1.39154725e-01]\n",
      "    [  8.74669067e-02  -1.12885848e-01   5.87108691e-01   1.73675364e-01\n",
      "       4.14897954e-02]\n",
      "    [ -1.19362444e-01   2.61757832e-01   2.67196602e-01   3.42762567e-02\n",
      "      -3.27431245e-03]\n",
      "    [ -1.78629397e-01  -4.30595277e-01   3.09208784e-01  -4.47136864e-01\n",
      "      -8.95157834e-02]]\n",
      "\n",
      "   [[ -9.79718354e-02  -5.23346625e-02   2.41322682e-01  -7.61139590e-02\n",
      "      -2.21782881e-01]\n",
      "    [  3.71231084e-02   5.44037073e-01   1.26074632e+00   3.10418076e-01\n",
      "       3.70016326e-01]\n",
      "    [ -2.47648304e-01   7.15978014e-01   5.30627475e-01   8.69323536e-02\n",
      "       2.01514188e-01]\n",
      "    [  3.50911232e-01  -3.42124091e-01   5.53330795e-01  -3.71920761e-01\n",
      "      -5.85080496e-01]]]]]\n",
      "Sigma [[[[[[  9.05329448e-01  -2.55948383e-01  -6.09214882e-02  -2.32734197e-01\n",
      "       -2.41344028e-01]\n",
      "     [ -2.55948383e-01   6.31633594e-01   4.65691418e-02   1.82203290e-01\n",
      "        4.96962482e-02]\n",
      "     [ -6.09214882e-02   4.65691418e-02   2.51775794e-01   1.08489747e-01\n",
      "        1.27423862e-01]\n",
      "     [ -2.32734197e-01   1.82203290e-01   1.08489747e-01   1.09616401e+00\n",
      "        3.89680832e-01]\n",
      "     [ -2.41344028e-01   4.96962482e-02   1.27423862e-01   3.89680832e-01\n",
      "        7.12234116e-01]]\n",
      "\n",
      "    [[  8.93484594e-01  -4.25027469e-01  -5.95162741e-02  -1.50262027e-01\n",
      "       -3.55931494e-01]\n",
      "     [ -4.25027469e-01   9.12557474e-01   1.11359613e-01   1.64121502e-01\n",
      "        2.33470491e-01]\n",
      "     [ -5.95162741e-02   1.11359613e-01   4.19265769e-01   9.17719007e-02\n",
      "        1.75321244e-01]\n",
      "     [ -1.50262027e-01   1.64121502e-01   9.17719007e-02   7.83460364e-01\n",
      "        3.74180038e-01]\n",
      "     [ -3.55931494e-01   2.33470491e-01   1.75321244e-01   3.74180038e-01\n",
      "        1.19209151e+00]]\n",
      "\n",
      "    [[  1.14311845e+00  -2.92794269e-01   6.78260235e-02   1.62055166e-01\n",
      "       -2.11133441e-01]\n",
      "     [ -2.92794269e-01   9.16242089e-01   1.24179783e-01   9.59248405e-03\n",
      "        6.17182641e-02]\n",
      "     [  6.78260235e-02   1.24179783e-01   3.30099337e-01   7.00163091e-02\n",
      "        2.80525258e-02]\n",
      "     [  1.62055166e-01   9.59248405e-03   7.00163091e-02   9.55107687e-01\n",
      "        3.69696202e-01]\n",
      "     [ -2.11133441e-01   6.17182641e-02   2.80525258e-02   3.69696202e-01\n",
      "        9.76561308e-01]]\n",
      "\n",
      "    [[  7.09612518e-01  -9.36870413e-02   2.54178522e-02  -2.25582255e-01\n",
      "       -2.24807513e-01]\n",
      "     [ -9.36870413e-02   5.23651557e-01   1.31688483e-01   2.63347954e-01\n",
      "        2.16714546e-01]\n",
      "     [  2.54178522e-02   1.31688483e-01   3.55730175e-01   1.73967330e-01\n",
      "        1.56288113e-01]\n",
      "     [ -2.25582255e-01   2.63347954e-01   1.73967330e-01   1.76623488e+00\n",
      "        6.92297675e-01]\n",
      "     [ -2.24807513e-01   2.16714546e-01   1.56288113e-01   6.92297675e-01\n",
      "        1.25157848e+00]]]\n",
      "\n",
      "\n",
      "   [[[  1.90657464e+00  -9.61770245e-01  -9.58450753e-02   3.68339645e-02\n",
      "       -5.93644048e-01]\n",
      "     [ -9.61770245e-01   2.05668204e+00  -1.21529757e-01   4.15500887e-01\n",
      "        1.20560596e+00]\n",
      "     [ -9.58450753e-02  -1.21529757e-01   9.79811207e-01  -1.90880735e-01\n",
      "       -3.12739844e-01]\n",
      "     [  3.68339645e-02   4.15500887e-01  -1.90880735e-01   9.95093784e-01\n",
      "        5.30522038e-01]\n",
      "     [ -5.93644048e-01   1.20560596e+00  -3.12739844e-01   5.30522038e-01\n",
      "        1.91105330e+00]]\n",
      "\n",
      "    [[  1.21250304e+00  -5.61866465e-01  -1.65130475e-01   3.00426603e-01\n",
      "       -2.31862245e-01]\n",
      "     [ -5.61866465e-01   1.17960354e+00   1.78828942e-01  -3.11680040e-01\n",
      "        2.12305895e-01]\n",
      "     [ -1.65130475e-01   1.78828942e-01   8.94444489e-01   2.05362728e-01\n",
      "        2.99893663e-01]\n",
      "     [  3.00426603e-01  -3.11680040e-01   2.05362728e-01   1.13033690e+00\n",
      "        4.07742930e-01]\n",
      "     [ -2.31862245e-01   2.12305895e-01   2.99893663e-01   4.07742930e-01\n",
      "        1.50571507e+00]]\n",
      "\n",
      "    [[  1.12003294e+00  -3.90339182e-01   5.65119683e-02  -4.61647972e-02\n",
      "       -1.25354626e-01]\n",
      "     [ -3.90339182e-01   9.72212983e-01   4.30414079e-02  -7.47959960e-02\n",
      "       -2.07417619e-02]\n",
      "     [  5.65119683e-02   4.30414079e-02   1.04491332e+00   3.88064752e-01\n",
      "        1.87568715e-01]\n",
      "     [ -4.61647972e-02  -7.47959960e-02   3.88064752e-01   1.16459776e+00\n",
      "        2.21209220e-01]\n",
      "     [ -1.25354626e-01  -2.07417619e-02   1.87568715e-01   2.21209220e-01\n",
      "        9.83901433e-01]]\n",
      "\n",
      "    [[  3.86287176e+00  -6.01317272e-01   1.27465214e-01  -4.60793057e-02\n",
      "       -6.49011451e-01]\n",
      "     [ -6.01317272e-01   3.41904542e+00  -8.88278394e-02   3.21117037e-02\n",
      "        4.52282495e-01]\n",
      "     [  1.27465214e-01  -8.88278394e-02   3.01882943e+00  -6.80693099e-03\n",
      "       -9.58733229e-02]\n",
      "     [ -4.60793057e-02   3.21117037e-02  -6.80693099e-03   3.00246074e+00\n",
      "        3.46586808e-02]\n",
      "     [ -6.49011451e-01   4.52282495e-01  -9.58733229e-02   3.46586808e-02\n",
      "        3.48815581e+00]]]]\n",
      "\n",
      "\n",
      "\n",
      "  [[[[  1.05639319e+00  -4.15905439e-01   2.11875695e-03  -7.16403973e-03\n",
      "       -3.55640038e-01]\n",
      "     [ -4.15905439e-01   1.05299001e+00   2.32811183e-01   9.54151492e-02\n",
      "        3.11269146e-01]\n",
      "     [  2.11875695e-03   2.32811183e-01   4.36905093e-01   1.31714902e-02\n",
      "        6.89074067e-02]\n",
      "     [ -7.16403973e-03   9.54151492e-02   1.31714902e-02   9.36379106e-01\n",
      "        2.80984330e-01]\n",
      "     [ -3.55640038e-01   3.11269146e-01   6.89074067e-02   2.80984330e-01\n",
      "        9.41719730e-01]]\n",
      "\n",
      "    [[  1.04762679e+00  -4.10392554e-01  -5.78284490e-02   1.08345418e-02\n",
      "       -3.61611330e-01]\n",
      "     [ -4.10392554e-01   1.02984142e+00   3.22033236e-01   3.37154454e-01\n",
      "        3.61759616e-01]\n",
      "     [ -5.78284490e-02   3.22033236e-01   5.78721510e-01   8.60886283e-02\n",
      "        1.37878886e-01]\n",
      "     [  1.08345418e-02   3.37154454e-01   8.60886283e-02   1.08281867e+00\n",
      "        5.97360713e-01]\n",
      "     [ -3.61611330e-01   3.61759616e-01   1.37878886e-01   5.97360713e-01\n",
      "        1.20208539e+00]]\n",
      "\n",
      "    [[  8.62486724e-01  -3.14520263e-01   4.20061616e-02   1.00906456e-01\n",
      "       -2.02317669e-01]\n",
      "     [ -3.14520263e-01   9.08904307e-01   1.44051914e-01   5.28633542e-03\n",
      "        1.13936662e-01]\n",
      "     [  4.20061616e-02   1.44051914e-01   5.21560222e-01   7.40076910e-02\n",
      "        2.79634853e-02]\n",
      "     [  1.00906456e-01   5.28633542e-03   7.40076910e-02   9.60534243e-01\n",
      "        3.29291872e-01]\n",
      "     [ -2.02317669e-01   1.13936662e-01   2.79634853e-02   3.29291872e-01\n",
      "        9.46059108e-01]]\n",
      "\n",
      "    [[  8.05779890e-01  -1.53032295e-01   1.76169388e-01  -4.64221967e-02\n",
      "       -1.73621468e-01]\n",
      "     [ -1.53032295e-01   7.97355081e-01   5.24877133e-03   3.21590257e-01\n",
      "        2.29518818e-01]\n",
      "     [  1.76169388e-01   5.24877133e-03   5.00022533e-01  -4.44007876e-02\n",
      "       -4.08839757e-02]\n",
      "     [ -4.64221967e-02   3.21590257e-01  -4.44007876e-02   1.40050837e+00\n",
      "        2.76072285e-01]\n",
      "     [ -1.73621468e-01   2.29518818e-01  -4.08839757e-02   2.76072285e-01\n",
      "        1.26593947e+00]]]\n",
      "\n",
      "\n",
      "   [[[  1.29910811e+00  -1.57039809e-01   3.50627984e-01   1.45106050e-01\n",
      "       -3.67813823e-01]\n",
      "     [ -1.57039809e-01   1.13139547e+00   5.39652712e-02   3.03233103e-02\n",
      "        2.70975599e-01]\n",
      "     [  3.50627984e-01   5.39652712e-02   7.30818583e-01   1.28886196e-01\n",
      "       -6.86818304e-02]\n",
      "     [  1.45106050e-01   3.03233103e-02   1.28886196e-01   5.16754590e-01\n",
      "        1.26022022e-01]\n",
      "     [ -3.67813823e-01   2.70975599e-01  -6.86818304e-02   1.26022022e-01\n",
      "        9.79520511e-01]]\n",
      "\n",
      "    [[  9.96312989e-01  -5.73092494e-01  -3.10865979e-01   2.82475123e-02\n",
      "       -2.61616114e-01]\n",
      "     [ -5.73092494e-01   9.18494334e-01   2.65923793e-01   1.39809361e-02\n",
      "        1.25291940e-01]\n",
      "     [ -3.10865979e-01   2.65923793e-01   9.92323815e-01  -1.29980540e-02\n",
      "        4.66333827e-03]\n",
      "     [  2.82475123e-02   1.39809361e-02  -1.29980540e-02   4.87648105e-01\n",
      "        1.53980205e-01]\n",
      "     [ -2.61616114e-01   1.25291940e-01   4.66333827e-03   1.53980205e-01\n",
      "        7.92372614e-01]]\n",
      "\n",
      "    [[  9.65418872e-01  -1.27457804e-01   1.05976339e-01   5.16891679e-02\n",
      "       -9.54256548e-02]\n",
      "     [ -1.27457804e-01   8.18008023e-01   2.23494888e-02   2.08995916e-01\n",
      "        3.29624426e-01]\n",
      "     [  1.05976339e-01   2.23494888e-02   5.74590853e-01   3.27585903e-02\n",
      "       -3.83132024e-02]\n",
      "     [  5.16891679e-02   2.08995916e-01   3.27585903e-02   1.03895454e+00\n",
      "        5.80805780e-01]\n",
      "     [ -9.54256548e-02   3.29624426e-01  -3.83132024e-02   5.80805780e-01\n",
      "        1.20738526e+00]]\n",
      "\n",
      "    [[  1.75741895e+00   1.28491433e-02   2.23168832e-01  -2.19888024e-01\n",
      "       -4.67843374e-01]\n",
      "     [  1.28491433e-02   1.86484053e+00   8.97657178e-02  -5.30065257e-01\n",
      "       -7.79953440e-01]\n",
      "     [  2.23168832e-01   8.97657178e-02   1.23007725e+00  -2.22859368e-01\n",
      "        2.54801927e-02]\n",
      "     [ -2.19888024e-01  -5.30065257e-01  -2.22859368e-01   1.86751383e+00\n",
      "        7.23862155e-01]\n",
      "     [ -4.67843374e-01  -7.79953440e-01   2.54801927e-02   7.23862155e-01\n",
      "        2.57624081e+00]]]]]\n",
      "\n",
      "\n",
      "\n",
      "\n",
      " [[[[[  9.37655787e-01  -2.31378930e-01  -4.98409853e-02   4.90500114e-02\n",
      "       -2.21021988e-01]\n",
      "     [ -2.31378930e-01   8.89970602e-01   2.83694052e-01   1.47040257e-01\n",
      "        2.51170354e-01]\n",
      "     [ -4.98409853e-02   2.83694052e-01   8.68879777e-01   1.46158509e-01\n",
      "        1.56813904e-01]\n",
      "     [  4.90500114e-02   1.47040257e-01   1.46158509e-01   7.46301188e-01\n",
      "        2.44570947e-01]\n",
      "     [ -2.21021988e-01   2.51170354e-01   1.56813904e-01   2.44570947e-01\n",
      "        8.13616677e-01]]\n",
      "\n",
      "    [[  9.85959943e-01  -2.51976561e-01  -1.28252115e-01   9.06871995e-02\n",
      "       -4.14685419e-01]\n",
      "     [ -2.51976561e-01   9.28023266e-01   3.65269070e-01   4.79820710e-02\n",
      "        2.56120669e-01]\n",
      "     [ -1.28252115e-01   3.65269070e-01   1.00977952e+00   1.33593066e-01\n",
      "        1.83392518e-01]\n",
      "     [  9.06871995e-02   4.79820710e-02   1.33593066e-01   1.00380334e+00\n",
      "        3.15359689e-01]\n",
      "     [ -4.14685419e-01   2.56120669e-01   1.83392518e-01   3.15359689e-01\n",
      "        1.03541993e+00]]\n",
      "\n",
      "    [[  1.25063641e+00  -1.86779261e-01  -2.04742047e-02  -1.92439491e-01\n",
      "       -4.14748506e-01]\n",
      "     [ -1.86779261e-01   9.73414630e-01   2.34079873e-01   1.82570866e-01\n",
      "        1.56201855e-01]\n",
      "     [ -2.04742047e-02   2.34079873e-01   5.24161674e-01   1.46684911e-01\n",
      "        3.84580142e-02]\n",
      "     [ -1.92439491e-01   1.82570866e-01   1.46684911e-01   1.14427742e+00\n",
      "        4.77186895e-01]\n",
      "     [ -4.14748506e-01   1.56201855e-01   3.84580142e-02   4.77186895e-01\n",
      "        1.03647175e+00]]\n",
      "\n",
      "    [[  8.39480790e-01  -5.78185470e-02  -7.12231307e-02  -2.12080509e-02\n",
      "       -3.04925848e-01]\n",
      "     [ -5.78185470e-02   6.62956333e-01   1.65969281e-01   8.58165055e-02\n",
      "        1.06047209e-01]\n",
      "     [ -7.12231307e-02   1.65969281e-01   4.54190087e-01   2.52091605e-01\n",
      "        2.05084904e-01]\n",
      "     [ -2.12080509e-02   8.58165055e-02   2.52091605e-01   1.19702532e+00\n",
      "        3.69571316e-01]\n",
      "     [ -3.04925848e-01   1.06047209e-01   2.05084904e-01   3.69571316e-01\n",
      "        8.71438189e-01]]]\n",
      "\n",
      "\n",
      "   [[[  2.33507775e+00   1.18409980e-01   2.74231548e-01   2.13055056e-01\n",
      "       -5.91532235e-01]\n",
      "     [  1.18409980e-01   1.56378139e+00   5.00863914e-01   2.03680541e-01\n",
      "        3.30525976e-01]\n",
      "     [  2.74231548e-01   5.00863914e-01   1.22808336e+00   4.22032844e-01\n",
      "        4.08460128e-01]\n",
      "     [  2.13055056e-01   2.03680541e-01   4.22032844e-01   1.07538993e+00\n",
      "        4.77242360e-01]\n",
      "     [ -5.91532235e-01   3.30525976e-01   4.08460128e-01   4.77242360e-01\n",
      "        1.73106133e+00]]\n",
      "\n",
      "    [[  8.25736275e-01  -2.69372038e-01  -1.65112855e-01  -2.73635417e-01\n",
      "       -4.29003600e-01]\n",
      "     [ -2.69372038e-01   1.11511207e+00   1.68627837e-01   1.45062259e-01\n",
      "        1.92760224e-01]\n",
      "     [ -1.65112855e-01   1.68627837e-01   2.19387574e+00   1.95359100e-01\n",
      "        2.12531512e-01]\n",
      "     [ -2.73635417e-01   1.45062259e-01   1.95359100e-01   7.52856048e-01\n",
      "        2.60718621e-01]\n",
      "     [ -4.29003600e-01   1.92760224e-01   2.12531512e-01   2.60718621e-01\n",
      "        1.01558054e+00]]\n",
      "\n",
      "    [[  1.07990447e+00   6.94039507e-02   3.14138684e-02   5.77611115e-02\n",
      "       -8.48422809e-02]\n",
      "     [  6.94039507e-02   1.21091663e+00   1.45550448e-01   5.25003916e-01\n",
      "        2.98218802e-01]\n",
      "     [  3.14138684e-02   1.45550448e-01   8.39759992e-01   1.07173425e-01\n",
      "        2.00096360e-02]\n",
      "     [  5.77611115e-02   5.25003916e-01   1.07173425e-01   9.21147583e-01\n",
      "        1.76353814e-01]\n",
      "     [ -8.48422809e-02   2.98218802e-01   2.00096360e-02   1.76353814e-01\n",
      "        8.40348969e-01]]\n",
      "\n",
      "    [[  1.11177204e+00   4.69400807e-01  -6.00521561e-02  -8.34633189e-02\n",
      "       -1.38851717e-01]\n",
      "     [  4.69400807e-01   1.54735499e+00  -2.03994194e-02  -3.34995182e-02\n",
      "       -1.89878124e-02]\n",
      "     [ -6.00521561e-02  -2.03994194e-02   1.57281135e+00   3.60527933e-01\n",
      "        2.95804763e-01]\n",
      "     [ -8.34633189e-02  -3.34995182e-02   3.60527933e-01   1.03902308e+00\n",
      "        1.90561214e-01]\n",
      "     [ -1.38851717e-01  -1.89878124e-02   2.95804763e-01   1.90561214e-01\n",
      "        1.28688438e+00]]]]\n",
      "\n",
      "\n",
      "\n",
      "  [[[[  1.07412382e+00  -3.20176262e-01   1.26911613e-01  -8.59674375e-03\n",
      "       -3.56852345e-01]\n",
      "     [ -3.20176262e-01   1.05600765e+00   2.30730703e-01   3.84877996e-02\n",
      "        2.21885074e-01]\n",
      "     [  1.26911613e-01   2.30730703e-01   1.15753982e+00   2.91018567e-01\n",
      "        2.24073139e-01]\n",
      "     [ -8.59674375e-03   3.84877996e-02   2.91018567e-01   9.44280243e-01\n",
      "        3.05989480e-01]\n",
      "     [ -3.56852345e-01   2.21885074e-01   2.24073139e-01   3.05989480e-01\n",
      "        9.96199929e-01]]\n",
      "\n",
      "    [[  1.05884044e+00  -3.90187794e-01   2.01871536e-02  -8.16265235e-02\n",
      "       -3.67647284e-01]\n",
      "     [ -3.90187794e-01   1.05675086e+00   4.25660901e-01   6.68401644e-02\n",
      "        3.01974931e-01]\n",
      "     [  2.01871536e-02   4.25660901e-01   1.46430501e+00   8.75388782e-02\n",
      "        1.55748015e-01]\n",
      "     [ -8.16265235e-02   6.68401644e-02   8.75388782e-02   8.66287790e-01\n",
      "        1.81364362e-01]\n",
      "     [ -3.67647284e-01   3.01974931e-01   1.55748015e-01   1.81364362e-01\n",
      "        8.49708984e-01]]\n",
      "\n",
      "    [[  8.77098346e-01  -2.87271254e-01   2.32881026e-01  -9.36406433e-02\n",
      "       -4.04889564e-01]\n",
      "     [ -2.87271254e-01   1.05569301e+00   1.20591055e-01   9.70051821e-02\n",
      "        2.05150504e-01]\n",
      "     [  2.32881026e-01   1.20591055e-01   9.51716993e-01   1.75489463e-01\n",
      "        5.19568488e-02]\n",
      "     [ -9.36406433e-02   9.70051821e-02   1.75489463e-01   7.95244302e-01\n",
      "        4.03998642e-01]\n",
      "     [ -4.04889564e-01   2.05150504e-01   5.19568488e-02   4.03998642e-01\n",
      "        9.12848548e-01]]\n",
      "\n",
      "    [[  1.16002387e+00   6.13351211e-02   3.53100620e-01   6.72238755e-02\n",
      "       -2.15454356e-01]\n",
      "     [  6.13351211e-02   8.89282285e-01   4.23026994e-01   2.87406284e-01\n",
      "        3.52861178e-01]\n",
      "     [  3.53100620e-01   4.23026994e-01   1.64837862e+00   5.94080828e-01\n",
      "        2.64547160e-01]\n",
      "     [  6.72238755e-02   2.87406284e-01   5.94080828e-01   1.56807086e+00\n",
      "        5.75670768e-01]\n",
      "     [ -2.15454356e-01   3.52861178e-01   2.64547160e-01   5.75670768e-01\n",
      "        1.23263965e+00]]]\n",
      "\n",
      "\n",
      "   [[[  9.96041050e-01  -1.62283739e-01   6.97174585e-02   5.96199630e-02\n",
      "       -4.02919529e-01]\n",
      "     [ -1.62283739e-01   1.18301032e+00   4.69030750e-01   1.70195561e-01\n",
      "        3.16935223e-01]\n",
      "     [  6.97174585e-02   4.69030750e-01   9.85296563e-01   3.64114322e-01\n",
      "        2.81216547e-01]\n",
      "     [  5.96199630e-02   1.70195561e-01   3.64114322e-01   1.49710010e+00\n",
      "        6.75797589e-01]\n",
      "     [ -4.02919529e-01   3.16935223e-01   2.81216547e-01   6.75797589e-01\n",
      "        1.29529628e+00]]\n",
      "\n",
      "    [[  1.04102178e+00  -2.22230343e-01  -5.31037321e-02   3.27515880e-02\n",
      "       -1.72634667e-01]\n",
      "     [ -2.22230343e-01   9.49107896e-01   5.68788855e-01  -4.99868559e-02\n",
      "        1.09784962e-01]\n",
      "     [ -5.31037321e-02   5.68788855e-01   2.84547353e+00   2.97896891e-01\n",
      "        1.38644339e-01]\n",
      "     [  3.27515880e-02  -4.99868559e-02   2.97896891e-01   7.21965123e-01\n",
      "        1.74536492e-01]\n",
      "     [ -1.72634667e-01   1.09784962e-01   1.38644339e-01   1.74536492e-01\n",
      "        1.04367501e+00]]\n",
      "\n",
      "    [[  1.17542742e+00  -7.51571408e-02   3.93145862e-01  -1.13242172e-01\n",
      "       -2.93119674e-01]\n",
      "     [ -7.51571408e-02   1.00798562e+00   2.30214801e-01   1.28501993e-01\n",
      "        2.71532922e-01]\n",
      "     [  3.93145862e-01   2.30214801e-01   1.46715625e+00   2.12189782e-01\n",
      "        2.12094798e-01]\n",
      "     [ -1.13242172e-01   1.28501993e-01   2.12189782e-01   8.75622156e-01\n",
      "        2.93401986e-01]\n",
      "     [ -2.93119674e-01   2.71532922e-01   2.12094798e-01   2.93401986e-01\n",
      "        9.95533946e-01]]\n",
      "\n",
      "    [[  1.01532933e+00  -7.74029615e-02  -1.37319510e-02   3.38491393e-01\n",
      "       -8.98630040e-02]\n",
      "     [ -7.74029615e-02   1.14624560e+00   1.67285833e-01  -1.83286867e-01\n",
      "       -3.06161064e-02]\n",
      "     [ -1.37319510e-02   1.67285833e-01   2.26489441e+00   7.98928357e-01\n",
      "        2.75000666e-01]\n",
      "     [  3.38491393e-01  -1.83286867e-01   7.98928357e-01   1.81881085e+00\n",
      "        6.73189787e-01]\n",
      "     [ -8.98630040e-02  -3.06161064e-02   2.75000666e-01   6.73189787e-01\n",
      "        1.65180582e+00]]]]]]\n"
     ]
    },
    {
     "data": {
      "text/plain": [
       "<module 'mb_modelbase' from '/home/chris/anaconda3/lib/python3.6/site-packages/mb_modelbase/__init__.py'>"
      ]
     },
     "execution_count": 74,
     "metadata": {},
     "output_type": "execute_result"
    }
   ],
   "source": [
    "#Create an object of the model class Conditional Gaussians (with categorical and continuous variables)\n",
    "mymod = mbase.MixableCondGaussianModel(\"Allbus_CondGauss\")\n",
    "#Fitting process\n",
    "mymod.fit(df=dataset)\n",
    "mymod.aggregate()"
   ]
  },
  {
   "cell_type": "markdown",
   "metadata": {},
   "source": [
    "After the model is fitted to the data, we can execute some functions on the model:"
   ]
  },
  {
   "cell_type": "code",
   "execution_count": 23,
   "metadata": {
    "scrolled": true
   },
   "outputs": [
    {
     "data": {
      "text/plain": [
       "(['Female',\n",
       "  'West',\n",
       "  'No',\n",
       "  'Center-right',\n",
       "  54.593417414050819,\n",
       "  3.3353064275037374,\n",
       "  1358.0209846786247,\n",
       "  8.1159491778774289,\n",
       "  3.6650448430493272],\n",
       " ['Male',\n",
       "  'West',\n",
       "  'No',\n",
       "  'Center-right',\n",
       "  52.42017937219731,\n",
       "  3.4735426008968608,\n",
       "  1737.0363228699553,\n",
       "  7.8278026905829599,\n",
       "  3.6107623318385649])"
      ]
     },
     "execution_count": 23,
     "metadata": {},
     "output_type": "execute_result"
    }
   ],
   "source": [
    "mymod.aggregate(\"maximum\")"
   ]
  },
  {
   "cell_type": "markdown",
   "metadata": {},
   "source": [
    "Why do we get two different maxima? One aggregation is executed on the fitted model and the other one on the data. We have to change the mode-parameter of the model to get the predicted maximum."
   ]
  },
  {
   "cell_type": "code",
   "execution_count": 24,
   "metadata": {
    "scrolled": true
   },
   "outputs": [
    {
     "data": {
      "text/plain": [
       "['Female',\n",
       " 'West',\n",
       " 'No',\n",
       " 'Center-right',\n",
       " 54.593417414050819,\n",
       " 3.3353064275037374,\n",
       " 1358.0209846786247,\n",
       " 8.1159491778774289,\n",
       " 3.6650448430493272]"
      ]
     },
     "execution_count": 24,
     "metadata": {},
     "output_type": "execute_result"
    }
   ],
   "source": [
    "mymod.mode = 'model' # or 'data', 'both'\n",
    "argmax = mymod.aggregate(\"maximum\")\n",
    "argmax"
   ]
  },
  {
   "cell_type": "markdown",
   "metadata": {},
   "source": [
    "To get a better understanding what is meant by executing the query against the model or data, we calculate the density of the distribution for a specific point. This can be done e.g. with the argmax:"
   ]
  },
  {
   "cell_type": "code",
   "execution_count": 25,
   "metadata": {},
   "outputs": [
    {
     "data": {
      "text/plain": [
       "0.0019600700797255009"
      ]
     },
     "execution_count": 25,
     "metadata": {},
     "output_type": "execute_result"
    }
   ],
   "source": [
    "mymod.density(argmax)"
   ]
  },
  {
   "cell_type": "markdown",
   "metadata": {},
   "source": [
    "What happens if we change the mode of the model?"
   ]
  },
  {
   "cell_type": "code",
   "execution_count": 26,
   "metadata": {},
   "outputs": [
    {
     "data": {
      "text/plain": [
       "0"
      ]
     },
     "execution_count": 26,
     "metadata": {},
     "output_type": "execute_result"
    }
   ],
   "source": [
    "mymod.mode = 'data'\n",
    "mymod.density(argmax)"
   ]
  },
  {
   "cell_type": "markdown",
   "metadata": {},
   "source": [
    "Why do we get 0 as an answer? Well, the density query against the data corresponds to the number of observations we have of the given point, the argmax was not observed once obviously (who specify his age on 54.593....?). So let us ask for the density of a specific point that we know it exists, for example the first point in the table above:"
   ]
  },
  {
   "cell_type": "code",
   "execution_count": 27,
   "metadata": {},
   "outputs": [
    {
     "data": {
      "text/plain": [
       "1"
      ]
     },
     "execution_count": 27,
     "metadata": {},
     "output_type": "execute_result"
    }
   ],
   "source": [
    "firstrow = ['Female', 'East', 'No', 'Left', 47, 3, 1800, 9, 3]\n",
    "mymod.density(firstrow)"
   ]
  },
  {
   "cell_type": "markdown",
   "metadata": {},
   "source": [
    "This means, the datapoint appears only once in the whole data set. We also can ask for the density of the model for this point:"
   ]
  },
  {
   "cell_type": "code",
   "execution_count": 28,
   "metadata": {},
   "outputs": [
    {
     "data": {
      "text/plain": [
       "0.0001405463987097855"
      ]
     },
     "execution_count": 28,
     "metadata": {},
     "output_type": "execute_result"
    }
   ],
   "source": [
    "mymod.mode = 'model'\n",
    "mymod.density(firstrow)"
   ]
  },
  {
   "cell_type": "markdown",
   "metadata": {},
   "source": [
    "To keep our fitted model, we can save it and load it another time:"
   ]
  },
  {
   "cell_type": "code",
   "execution_count": 64,
   "metadata": {},
   "outputs": [
    {
     "data": {
      "text/plain": [
       "['sex',\n",
       " 'eastwest',\n",
       " 'lived_abroad',\n",
       " 'spectrum',\n",
       " 'age',\n",
       " 'educ',\n",
       " 'income',\n",
       " 'happiness',\n",
       " 'health']"
      ]
     },
     "execution_count": 64,
     "metadata": {},
     "output_type": "execute_result"
    }
   ],
   "source": [
    "mymod.save(model=mymod, filename=\"example_models/Allbus_CondGauss.mdl\")\n",
    "loadmod = mbase.Model.load(\"example_models/Allbus_CondGauss.mdl\")\n",
    "loadmod.names"
   ]
  },
  {
   "cell_type": "markdown",
   "metadata": {},
   "source": [
    "For this purpose we also can create a modelbase. This is like an abstract object that keeps all the models we have learned. Important is that we have name a directory where we store and load the models from:"
   ]
  },
  {
   "cell_type": "code",
   "execution_count": 66,
   "metadata": {},
   "outputs": [
    {
     "data": {
      "text/plain": [
       "<bound method ModelBase.save_all_models of <mb_modelbase.server.modelbase.ModelBase object at 0x7f3bd883eb38>>"
      ]
     },
     "execution_count": 66,
     "metadata": {},
     "output_type": "execute_result"
    }
   ],
   "source": [
    "#Create the modelbase\n",
    "mymodelbase = mbase.ModelBase(\"My Modelbase\", load_all=False, model_dir=\"example_models\")\n",
    "#Add our fittedmodel mymod to the modelbase mymodelbase\n",
    "mymodelbase.add(mymod) \n",
    "#Save it\n",
    "mymodelbase.save_all_models"
   ]
  },
  {
   "cell_type": "markdown",
   "metadata": {},
   "source": [
    "## Marginalization and Conditionalization (basic)\n",
    "\n",
    "Right now our model is way too complex to obtain some useful information. Therefore we would like to marginalize out some dimensions and conditionalize some other dimension on a specific value in order to concentrate on information we are actually interested in.\n",
    "\n",
    "### 1. Marginalization\n",
    "\n",
    "At first we show how we remove some dimensions to reduce the model to less variables:"
   ]
  },
  {
   "cell_type": "code",
   "execution_count": 67,
   "metadata": {},
   "outputs": [
    {
     "data": {
      "text/plain": [
       "['sex', 'eastwest', 'income']"
      ]
     },
     "execution_count": 67,
     "metadata": {},
     "output_type": "execute_result"
    }
   ],
   "source": [
    "#'keep' for the dimensions you want to keep\n",
    "mymod_marg = mymod.copy().marginalize(keep=['income', 'sex', 'eastwest']) \n",
    "#'remove' for the dimensions you want to remove\n",
    "mymod_marg = mymod.copy().marginalize(remove=['lived_abroad', 'spectrum', 'educ', 'happiness', 'health', 'age', ]) \n",
    "mymod_marg.names"
   ]
  },
  {
   "cell_type": "markdown",
   "metadata": {},
   "source": [
    "So we really have the 3 dimensions left we have asked for. Now, we can use our basic functions:"
   ]
  },
  {
   "cell_type": "code",
   "execution_count": 68,
   "metadata": {},
   "outputs": [
    {
     "data": {
      "text/plain": [
       "['Female', 'West', 1355.5720558306523]"
      ]
     },
     "execution_count": 68,
     "metadata": {},
     "output_type": "execute_result"
    }
   ],
   "source": [
    "argmax = mymod_marg.aggregate(\"maximum\")\n",
    "argmax"
   ]
  },
  {
   "cell_type": "code",
   "execution_count": 69,
   "metadata": {},
   "outputs": [
    {
     "data": {
      "text/plain": [
       "0.10685935992577861"
      ]
     },
     "execution_count": 69,
     "metadata": {},
     "output_type": "execute_result"
    }
   ],
   "source": [
    "mymod_marg.density([\"Male\", \"West\", 1800])"
   ]
  },
  {
   "cell_type": "markdown",
   "metadata": {},
   "source": [
    "So we have reduced our model to 3 dimensions without any new fitting process!\n",
    "\n",
    "### 2. Conditionalization\n",
    "\n",
    "Now we want to marginalize some variables on specific values to compare two those, in this example we want to compare the income between men and women:"
   ]
  },
  {
   "cell_type": "code",
   "execution_count": 70,
   "metadata": {},
   "outputs": [],
   "source": [
    "#How to conditionalize a variable on a specific value:\n",
    "#1. Conditionalize the variables \n",
    "mymod_cond_mann = mymod.copy().condition([mbase.Condition(\"sex\", \"==\", \"Male\")])\n",
    "mymod_cond_frau = mymod.copy().condition([mbase.Condition(\"sex\", \"==\", \"Female\")])\n",
    "#2. Marginalize out the dimension\n",
    "mymod_cond_mann.marginalize(remove=['sex'])\n",
    "mymod_cond_frau.marginalize(remove=['sex'])\n",
    "\n",
    "#Alternative: Steps 1 and 2 chained in one line\n",
    "mymod_cond_mann = mymod.copy().condition([mbase.Condition(\"sex\", \"==\", \"Male\")]).marginalize(remove=['sex'])\n",
    "mymod_cond_frau = mymod.copy().condition([mbase.Condition(\"sex\", \"==\", \"Female\")]).marginalize(remove=['sex'])"
   ]
  },
  {
   "cell_type": "markdown",
   "metadata": {},
   "source": [
    "After we conditionalized the variable 'sex' in one model on 'Mann' and in the other model on 'Frau', we marginalize out the rest of the values to filter unnecessary information and get the aggregation after it:"
   ]
  },
  {
   "cell_type": "code",
   "execution_count": 71,
   "metadata": {},
   "outputs": [
    {
     "data": {
      "text/plain": [
       "[[1841.9319762906237], [1293.8338215305228]]"
      ]
     },
     "execution_count": 71,
     "metadata": {},
     "output_type": "execute_result"
    }
   ],
   "source": [
    "mymod_cond_mann.marginalize(keep=['income'])\n",
    "mymod_cond_frau.marginalize(keep=['income'])\n",
    "[mymod_cond_mann.aggregate(\"maximum\"), mymod_cond_frau.aggregate(\"maximum\")]"
   ]
  },
  {
   "cell_type": "markdown",
   "metadata": {},
   "source": [
    "We can see that we have a large difference in the income between men and women."
   ]
  }
 ],
 "metadata": {
  "kernelspec": {
   "display_name": "Python 3",
   "language": "python",
   "name": "python3"
  },
  "language_info": {
   "codemirror_mode": {
    "name": "ipython",
    "version": 3
   },
   "file_extension": ".py",
   "mimetype": "text/x-python",
   "name": "python",
   "nbconvert_exporter": "python",
   "pygments_lexer": "ipython3",
   "version": "3.6.3"
  }
 },
 "nbformat": 4,
 "nbformat_minor": 2
}
