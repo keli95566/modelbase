{
 "cells": [
  {
   "cell_type": "markdown",
   "metadata": {},
   "source": [
    "# How to use the mb_modelbase package on real data\n",
    "\n",
    "Welcome to a short introductory example of the mb_modelbase package. Usually mb_modelbase is a part of the Moo-Software and is used as the backend but it can also used without the frontend as a standalone software. \n",
    "\n",
    "## The Allbus2016 data set\n",
    "\n",
    "For the introduction we will use The German General Social Survey [ALLBUS](https://www.gesis.org/en/allbus/allbus-home/). It is from the Leibniz Institute for the Social Sciences (GESIS) and contains all different kinds of variables of a single person like sex, age, income, place of residence, political attitude ... and so on. We would like to learn models on a small subset and execute some operations mb_modelbase to get a brief overview over the functions of mb_modelbase and how to handle them.\n",
    "\n",
    "Let us import the data set and have a first view:"
   ]
  },
  {
   "cell_type": "code",
   "execution_count": 1,
   "metadata": {},
   "outputs": [
    {
     "data": {
      "text/html": [
       "<div>\n",
       "<style>\n",
       "    .dataframe thead tr:only-child th {\n",
       "        text-align: right;\n",
       "    }\n",
       "\n",
       "    .dataframe thead th {\n",
       "        text-align: left;\n",
       "    }\n",
       "\n",
       "    .dataframe tbody tr th {\n",
       "        vertical-align: top;\n",
       "    }\n",
       "</style>\n",
       "<table border=\"1\" class=\"dataframe\">\n",
       "  <thead>\n",
       "    <tr style=\"text-align: right;\">\n",
       "      <th></th>\n",
       "      <th>age</th>\n",
       "      <th>sex</th>\n",
       "      <th>educ</th>\n",
       "      <th>income</th>\n",
       "      <th>eastwest</th>\n",
       "      <th>lived_abroad</th>\n",
       "      <th>spectrum</th>\n",
       "    </tr>\n",
       "  </thead>\n",
       "  <tbody>\n",
       "    <tr>\n",
       "      <th>0</th>\n",
       "      <td>47</td>\n",
       "      <td>Female</td>\n",
       "      <td>3</td>\n",
       "      <td>1800</td>\n",
       "      <td>East</td>\n",
       "      <td>No</td>\n",
       "      <td>1</td>\n",
       "    </tr>\n",
       "    <tr>\n",
       "      <th>1</th>\n",
       "      <td>52</td>\n",
       "      <td>Male</td>\n",
       "      <td>3</td>\n",
       "      <td>2000</td>\n",
       "      <td>East</td>\n",
       "      <td>No</td>\n",
       "      <td>5</td>\n",
       "    </tr>\n",
       "    <tr>\n",
       "      <th>2</th>\n",
       "      <td>61</td>\n",
       "      <td>Male</td>\n",
       "      <td>2</td>\n",
       "      <td>2500</td>\n",
       "      <td>West</td>\n",
       "      <td>No</td>\n",
       "      <td>6</td>\n",
       "    </tr>\n",
       "    <tr>\n",
       "      <th>3</th>\n",
       "      <td>54</td>\n",
       "      <td>Female</td>\n",
       "      <td>2</td>\n",
       "      <td>860</td>\n",
       "      <td>West</td>\n",
       "      <td>Yes</td>\n",
       "      <td>1</td>\n",
       "    </tr>\n",
       "    <tr>\n",
       "      <th>4</th>\n",
       "      <td>49</td>\n",
       "      <td>Male</td>\n",
       "      <td>3</td>\n",
       "      <td>2500</td>\n",
       "      <td>West</td>\n",
       "      <td>No</td>\n",
       "      <td>6</td>\n",
       "    </tr>\n",
       "  </tbody>\n",
       "</table>\n",
       "</div>"
      ],
      "text/plain": [
       "   age     sex  educ  income eastwest lived_abroad  spectrum\n",
       "0   47  Female     3    1800     East           No         1\n",
       "1   52    Male     3    2000     East           No         5\n",
       "2   61    Male     2    2500     West           No         6\n",
       "3   54  Female     2     860     West          Yes         1\n",
       "4   49    Male     3    2500     West           No         6"
      ]
     },
     "execution_count": 1,
     "metadata": {},
     "output_type": "execute_result"
    }
   ],
   "source": [
    "import pandas as pd\n",
    "dataset = pd.read_csv('allbus2016.csv', index_col=0)\n",
    "dataset.head()"
   ]
  },
  {
   "cell_type": "markdown",
   "metadata": {},
   "source": [
    "We see a data set with 7 variables, 4 continuous and 3 categorical."
   ]
  },
  {
   "cell_type": "markdown",
   "metadata": {},
   "source": [
    "## Fitting a model and using some basic functions\n",
    "First step is to import the mb_modelbase package:"
   ]
  },
  {
   "cell_type": "code",
   "execution_count": 2,
   "metadata": {
    "collapsed": true
   },
   "outputs": [],
   "source": [
    "import mb_modelbase as mbase"
   ]
  },
  {
   "cell_type": "markdown",
   "metadata": {},
   "source": [
    "Now we can create an object of a model and fit the data to it. Of course it is hard to validate if the model class make sense or not from here without visual output."
   ]
  },
  {
   "cell_type": "code",
   "execution_count": 5,
   "metadata": {},
   "outputs": [
    {
     "name": "stdout",
     "output_type": "stream",
     "text": [
      "** Mean parameters (direct) **\n",
      "p [[[ 0.14030384  0.01742627]\n",
      "  [ 0.256479    0.0665773 ]]\n",
      "\n",
      " [[ 0.15996425  0.02323503]\n",
      "  [ 0.256479    0.0795353 ]]]\n",
      "mu [[[[ 0.18641874 -0.11944102 -0.41891244 -0.0420817 ]\n",
      "   [-0.19096579  0.58730211 -0.16113027 -0.44565415]]\n",
      "\n",
      "  [[-0.06007602 -0.07881634 -0.33469712 -0.06532139]\n",
      "   [-0.36235841  0.61998339 -0.17173786 -0.29609454]]]\n",
      "\n",
      "\n",
      " [[[ 0.14422068 -0.13517125 -0.09098053  0.1703368 ]\n",
      "   [-0.16467197  0.38899915  0.14196827 -0.13037792]]\n",
      "\n",
      "  [[ 0.00361768 -0.12166744  0.43259665  0.1278247 ]\n",
      "   [-0.04358086  0.36777083  0.74385323 -0.08632347]]]]\n",
      "Sigma [[[[[  9.31204868e-01  -3.13685512e-01   7.64626654e-04  -1.04818872e-01]\n",
      "    [ -3.13685512e-01   7.84466203e-01   1.13287349e-01  -8.58367820e-02]\n",
      "    [  7.64626654e-04   1.13287349e-01   2.92648317e-01  -4.44579459e-02]\n",
      "    [ -1.04818872e-01  -8.58367820e-02  -4.44579459e-02   1.32275897e+00]]\n",
      "\n",
      "   [[  1.16364297e+00  -6.48499706e-01  -5.81860591e-02  -8.75337270e-02]\n",
      "    [ -6.48499706e-01   1.05421056e+00   1.08035287e-01  -1.23133890e-01]\n",
      "    [ -5.81860591e-02   1.08035287e-01   7.58502075e-01  -2.17212592e-01]\n",
      "    [ -8.75337270e-02  -1.23133890e-01  -2.17212592e-01   7.97580273e-01]]]\n",
      "\n",
      "\n",
      "  [[[  9.90464943e-01  -3.78202776e-01   2.20941269e-03   5.12955552e-02]\n",
      "    [ -3.78202776e-01   9.97617243e-01   2.32901894e-01  -1.23759723e-01]\n",
      "    [  2.20941269e-03   2.32901894e-01   4.90282544e-01   9.79542763e-03]\n",
      "    [  5.12955552e-02  -1.23759723e-01   9.79542763e-03   7.44200077e-01]]\n",
      "\n",
      "   [[  9.83428076e-01  -2.89116144e-01   1.16961033e-02   6.73782147e-02]\n",
      "    [ -2.89116144e-01   8.59357383e-01   1.39461656e-01  -2.42570758e-02]\n",
      "    [  1.16961033e-02   1.39461656e-01   6.84082136e-01  -2.33160379e-02]\n",
      "    [  6.73782147e-02  -2.42570758e-02  -2.33160379e-02   7.31328742e-01]]]]\n",
      "\n",
      "\n",
      "\n",
      " [[[[  9.76697049e-01  -1.75694302e-01  -6.18220674e-02  -7.48425229e-02]\n",
      "    [ -1.75694302e-01   8.43628432e-01   2.81733742e-01  -1.26844821e-01]\n",
      "    [ -6.18220674e-02   2.81733742e-01   7.01764708e-01  -8.91744174e-03]\n",
      "    [ -7.48425229e-02  -1.26844821e-01  -8.91744174e-03   1.36440081e+00]]\n",
      "\n",
      "   [[  1.07126054e+00   9.54552578e-02  -4.92521514e-02  -7.31253078e-02]\n",
      "    [  9.54552578e-02   1.05122693e+00   1.82021040e-01  -1.63655986e-01]\n",
      "    [ -4.92521514e-02   1.82021040e-01   1.24462555e+00   1.30457753e-01]\n",
      "    [ -7.31253078e-02  -1.63655986e-01   1.30457753e-01   1.32214432e+00]]]\n",
      "\n",
      "\n",
      "  [[[  1.02448382e+00  -3.00117562e-01   1.40984200e-01  -1.03908920e-02]\n",
      "    [ -3.00117562e-01   1.05227245e+00   3.19537688e-01  -1.42406179e-01]\n",
      "    [  1.40984200e-01   3.19537688e-01   1.30975251e+00   5.22220816e-02]\n",
      "    [ -1.03908920e-02  -1.42406179e-01   5.22220816e-02   8.97981047e-01]]\n",
      "\n",
      "   [[  1.01445489e+00  -1.94370103e-01   1.42632101e-01   1.47233300e-01]\n",
      "    [ -1.94370103e-01   1.09802094e+00   4.73090752e-01  -1.93544036e-01]\n",
      "    [  1.42632101e-01   4.73090752e-01   2.03761239e+00   1.56489820e-01]\n",
      "    [  1.47233300e-01  -1.93544036e-01   1.56489820e-01   9.49274207e-01]]]]]\n"
     ]
    },
    {
     "data": {
      "text/plain": [
       "<mb_modelbase.models_core.mixable_cond_gaussian.MixableCondGaussianModel at 0x7f922587ac18>"
      ]
     },
     "execution_count": 5,
     "metadata": {},
     "output_type": "execute_result"
    }
   ],
   "source": [
    "#Create an object of the model class Conditional Gaussians (with categorical and continuous variables)\n",
    "mymod = mbase.MixableCondGaussianModel(\"Allbus_CondGauss\")\n",
    "#Fitting process\n",
    "mymod.fit(df=dataset)"
   ]
  },
  {
   "cell_type": "markdown",
   "metadata": {},
   "source": [
    "After the model is fitted to the data, we can execute some functions on the model:"
   ]
  },
  {
   "cell_type": "code",
   "execution_count": 6,
   "metadata": {
    "scrolled": true
   },
   "outputs": [
    {
     "data": {
      "text/plain": [
       "(['Female',\n",
       "  'West',\n",
       "  'No',\n",
       "  51.371812159185012,\n",
       "  3.3806159278761272,\n",
       "  1326.0000632802612,\n",
       "  4.2847494570397346],\n",
       " ['Female',\n",
       "  'West',\n",
       "  'No',\n",
       "  52.42017937219731,\n",
       "  3.4735426008968608,\n",
       "  1737.0363228699553,\n",
       "  4.4461883408071747])"
      ]
     },
     "execution_count": 6,
     "metadata": {},
     "output_type": "execute_result"
    }
   ],
   "source": [
    "mymod.aggregate(\"maximum\")"
   ]
  },
  {
   "cell_type": "markdown",
   "metadata": {},
   "source": [
    "Why do we get two different maxima? One aggregation is executed on the fitted model and the other one on the data. We have to change the mode-parameter of the model to get the predicted maximum."
   ]
  },
  {
   "cell_type": "code",
   "execution_count": 7,
   "metadata": {
    "scrolled": true
   },
   "outputs": [
    {
     "data": {
      "text/plain": [
       "['Female',\n",
       " 'West',\n",
       " 'No',\n",
       " 51.371812159185012,\n",
       " 3.3806159278761272,\n",
       " 1326.0000632802612,\n",
       " 4.2847494570397346]"
      ]
     },
     "execution_count": 7,
     "metadata": {},
     "output_type": "execute_result"
    }
   ],
   "source": [
    "mymod.mode = 'model' # or 'data', 'both'\n",
    "argmax = mymod.aggregate(\"maximum\")\n",
    "argmax"
   ]
  },
  {
   "cell_type": "markdown",
   "metadata": {},
   "source": [
    "To get a better understanding what is meant by executing the query against the model or data, we calculate the density of the distribution for a specific point. This can be done e.g. with the argmax:"
   ]
  },
  {
   "cell_type": "code",
   "execution_count": 8,
   "metadata": {},
   "outputs": [
    {
     "data": {
      "text/plain": [
       "0.012709581532377863"
      ]
     },
     "execution_count": 8,
     "metadata": {},
     "output_type": "execute_result"
    }
   ],
   "source": [
    "mymod.density(argmax)"
   ]
  },
  {
   "cell_type": "markdown",
   "metadata": {},
   "source": [
    "What happens if we change the mode of the model?"
   ]
  },
  {
   "cell_type": "code",
   "execution_count": 9,
   "metadata": {},
   "outputs": [
    {
     "data": {
      "text/plain": [
       "0"
      ]
     },
     "execution_count": 9,
     "metadata": {},
     "output_type": "execute_result"
    }
   ],
   "source": [
    "mymod.mode = 'data'\n",
    "mymod.density(argmax)"
   ]
  },
  {
   "cell_type": "markdown",
   "metadata": {},
   "source": [
    "Why do we get 0 as an answer? Well, the density query against the data corresponds to the number of observations we have of the given point, the argmax was not observed once obviously (who specify his age on 54.593....?). So let us ask for the density of a specific point that we know it exists, for example the first point in the table above:"
   ]
  },
  {
   "cell_type": "code",
   "execution_count": 11,
   "metadata": {},
   "outputs": [
    {
     "data": {
      "text/plain": [
       "1"
      ]
     },
     "execution_count": 11,
     "metadata": {},
     "output_type": "execute_result"
    }
   ],
   "source": [
    "firstrow = ['Female', 'East', 'No', 47, 3, 1800, 1]\n",
    "mymod.density(firstrow)"
   ]
  },
  {
   "cell_type": "markdown",
   "metadata": {},
   "source": [
    "This means, the datapoint appears only once in the whole data set. We also can ask for the density of the model for this point:"
   ]
  },
  {
   "cell_type": "code",
   "execution_count": 12,
   "metadata": {},
   "outputs": [
    {
     "data": {
      "text/plain": [
       "0.0014730501919687051"
      ]
     },
     "execution_count": 12,
     "metadata": {},
     "output_type": "execute_result"
    }
   ],
   "source": [
    "mymod.mode = 'model'\n",
    "mymod.density(firstrow)"
   ]
  },
  {
   "cell_type": "markdown",
   "metadata": {},
   "source": [
    "To keep our fitted model, we can save it and load it another time:"
   ]
  },
  {
   "cell_type": "code",
   "execution_count": 13,
   "metadata": {},
   "outputs": [
    {
     "data": {
      "text/plain": [
       "['sex', 'eastwest', 'lived_abroad', 'age', 'educ', 'income', 'spectrum']"
      ]
     },
     "execution_count": 13,
     "metadata": {},
     "output_type": "execute_result"
    }
   ],
   "source": [
    "mymod.save(model=mymod, filename=\"example_models/Allbus_CondGauss.mdl\")\n",
    "loadmod = mbase.Model.load(\"example_models/Allbus_CondGauss.mdl\")\n",
    "loadmod.names"
   ]
  },
  {
   "cell_type": "markdown",
   "metadata": {},
   "source": [
    "For this purpose we also can create a modelbase. This is like an abstract object that keeps all the models we have learned. Important is that we have name a directory where we store and load the models from:"
   ]
  },
  {
   "cell_type": "code",
   "execution_count": 14,
   "metadata": {},
   "outputs": [
    {
     "data": {
      "text/plain": [
       "<bound method ModelBase.save_all_models of <mb_modelbase.server.modelbase.ModelBase object at 0x7f9225891898>>"
      ]
     },
     "execution_count": 14,
     "metadata": {},
     "output_type": "execute_result"
    }
   ],
   "source": [
    "#Create the modelbase\n",
    "mymodelbase = mbase.ModelBase(\"My Modelbase\", load_all=False, model_dir=\"example_models\")\n",
    "#Add our fittedmodel mymod to the modelbase mymodelbase\n",
    "mymodelbase.add(mymod) \n",
    "#Save it\n",
    "mymodelbase.save_all_models"
   ]
  },
  {
   "cell_type": "markdown",
   "metadata": {},
   "source": [
    "## Marginalization and Conditionalization (basic)\n",
    "\n",
    "Right now our model is way too complex to obtain some useful information. Therefore we would like to marginalize out some dimensions and conditionalize some other dimension on a specific value in order to concentrate on information we are actually interested in.\n",
    "\n",
    "### 1. Marginalization\n",
    "\n",
    "At first we show how we remove some dimensions to reduce the model to less variables:"
   ]
  },
  {
   "cell_type": "code",
   "execution_count": 15,
   "metadata": {},
   "outputs": [
    {
     "data": {
      "text/plain": [
       "['sex', 'eastwest', 'income']"
      ]
     },
     "execution_count": 15,
     "metadata": {},
     "output_type": "execute_result"
    }
   ],
   "source": [
    "#'keep' for the dimensions you want to keep\n",
    "mymod_marg = mymod.copy().marginalize(keep=['income', 'sex', 'eastwest']) \n",
    "#'remove' for the dimensions you want to remove\n",
    "mymod_marg = mymod.copy().marginalize(remove=['lived_abroad', 'spectrum', 'educ', 'age', ]) \n",
    "mymod_marg.names"
   ]
  },
  {
   "cell_type": "markdown",
   "metadata": {},
   "source": [
    "So we really have the 3 dimensions left we have asked for. Now, we can use our basic functions:"
   ]
  },
  {
   "cell_type": "code",
   "execution_count": 16,
   "metadata": {},
   "outputs": [
    {
     "data": {
      "text/plain": [
       "['Female', 'West', 1352.9024977961801]"
      ]
     },
     "execution_count": 16,
     "metadata": {},
     "output_type": "execute_result"
    }
   ],
   "source": [
    "argmax = mymod_marg.aggregate(\"maximum\")\n",
    "argmax"
   ]
  },
  {
   "cell_type": "code",
   "execution_count": 17,
   "metadata": {},
   "outputs": [
    {
     "data": {
      "text/plain": [
       "0.10433855223064581"
      ]
     },
     "execution_count": 17,
     "metadata": {},
     "output_type": "execute_result"
    }
   ],
   "source": [
    "mymod_marg.density([\"Male\", \"West\", 1800])"
   ]
  },
  {
   "cell_type": "markdown",
   "metadata": {},
   "source": [
    "So we have reduced our model to 3 dimensions without any new fitting process!\n",
    "\n",
    "### 2. Conditionalization\n",
    "\n",
    "Now we want to marginalize some variables on specific values to compare two those, in this example we want to compare the income between men and women:"
   ]
  },
  {
   "cell_type": "code",
   "execution_count": 18,
   "metadata": {
    "collapsed": true
   },
   "outputs": [],
   "source": [
    "#How to conditionalize a variable on a specific value:\n",
    "#1. Conditionalize the variables \n",
    "mymod_cond_mann = mymod.copy().condition([mbase.Condition(\"sex\", \"==\", \"Male\")])\n",
    "mymod_cond_frau = mymod.copy().condition([mbase.Condition(\"sex\", \"==\", \"Female\")])\n",
    "#2. Marginalize out the dimension\n",
    "mymod_cond_mann.marginalize(remove=['sex'])\n",
    "mymod_cond_frau.marginalize(remove=['sex'])\n",
    "\n",
    "#Alternative: Steps 1 and 2 chained in one line\n",
    "mymod_cond_mann = mymod.copy().condition([mbase.Condition(\"sex\", \"==\", \"Male\")]).marginalize(remove=['sex'])\n",
    "mymod_cond_frau = mymod.copy().condition([mbase.Condition(\"sex\", \"==\", \"Female\")]).marginalize(remove=['sex'])"
   ]
  },
  {
   "cell_type": "markdown",
   "metadata": {},
   "source": [
    "After we conditionalized the variable 'sex' in one model on 'Mann' and in the other model on 'Frau', we marginalize out the rest of the values to filter unnecessary information and get the aggregation after it:"
   ]
  },
  {
   "cell_type": "code",
   "execution_count": 19,
   "metadata": {},
   "outputs": [
    {
     "data": {
      "text/plain": [
       "[[1917.6936449926814], [1290.4953763614485]]"
      ]
     },
     "execution_count": 19,
     "metadata": {},
     "output_type": "execute_result"
    }
   ],
   "source": [
    "mymod_cond_mann.marginalize(keep=['income'])\n",
    "mymod_cond_frau.marginalize(keep=['income'])\n",
    "[mymod_cond_mann.aggregate(\"maximum\"), mymod_cond_frau.aggregate(\"maximum\")]"
   ]
  },
  {
   "cell_type": "markdown",
   "metadata": {},
   "source": [
    "We can see that we have a large difference in the income between men and women."
   ]
  }
 ],
 "metadata": {
  "kernelspec": {
   "display_name": "Python 3",
   "language": "python",
   "name": "python3"
  },
  "language_info": {
   "codemirror_mode": {
    "name": "ipython",
    "version": 3
   },
   "file_extension": ".py",
   "mimetype": "text/x-python",
   "name": "python",
   "nbconvert_exporter": "python",
   "pygments_lexer": "ipython3",
   "version": "3.6.3"
  }
 },
 "nbformat": 4,
 "nbformat_minor": 2
}
