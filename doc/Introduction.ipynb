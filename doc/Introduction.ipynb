{
 "cells": [
  {
   "cell_type": "markdown",
   "metadata": {},
   "source": [
    "# Introduction to the mb_modelbase package\n",
    "\n",
    "Welcome to a short introduction to the mb_modelbase package. Usually mb_modelbase is a part of the Moo-Software and is used as the backend but it can also used without the frontend as a standalone software. \n",
    "\n",
    "The easiest way to demonstrate the functions is with an example. So we are going to explore a real data set with the mb_modelbase package. \n",
    "\n",
    "### The Allbus2016 data set\n",
    "\n",
    "The data set we are going to explore is the allbus2016 data set. It is a survey which contains all different kinds of variables of a single person like sex, age, income, place of residence, political attitude ... and so on. We would like to learn different models on it and execute some operations mb_modelbase to get a brief overview over the functions of mb_modelbase.\n",
    "\n",
    "Let us import the data set and have a first view:"
   ]
  },
  {
   "cell_type": "code",
   "execution_count": 3,
   "metadata": {},
   "outputs": [
    {
     "data": {
      "text/html": [
       "<div>\n",
       "<style>\n",
       "    .dataframe thead tr:only-child th {\n",
       "        text-align: right;\n",
       "    }\n",
       "\n",
       "    .dataframe thead th {\n",
       "        text-align: left;\n",
       "    }\n",
       "\n",
       "    .dataframe tbody tr th {\n",
       "        vertical-align: top;\n",
       "    }\n",
       "</style>\n",
       "<table border=\"1\" class=\"dataframe\">\n",
       "  <thead>\n",
       "    <tr style=\"text-align: right;\">\n",
       "      <th></th>\n",
       "      <th>age</th>\n",
       "      <th>sex</th>\n",
       "      <th>educ</th>\n",
       "      <th>inc</th>\n",
       "      <th>eastwest</th>\n",
       "      <th>happiness</th>\n",
       "      <th>health</th>\n",
       "      <th>lived_abroad</th>\n",
       "      <th>spectrum</th>\n",
       "      <th>spectrum_cat</th>\n",
       "    </tr>\n",
       "  </thead>\n",
       "  <tbody>\n",
       "    <tr>\n",
       "      <th>0</th>\n",
       "      <td>47</td>\n",
       "      <td>Frau</td>\n",
       "      <td>3</td>\n",
       "      <td>1800</td>\n",
       "      <td>Ost</td>\n",
       "      <td>9</td>\n",
       "      <td>3</td>\n",
       "      <td>Nein</td>\n",
       "      <td>1</td>\n",
       "      <td>Links</td>\n",
       "    </tr>\n",
       "    <tr>\n",
       "      <th>1</th>\n",
       "      <td>52</td>\n",
       "      <td>Mann</td>\n",
       "      <td>3</td>\n",
       "      <td>2000</td>\n",
       "      <td>Ost</td>\n",
       "      <td>8</td>\n",
       "      <td>3</td>\n",
       "      <td>Nein</td>\n",
       "      <td>5</td>\n",
       "      <td>MitteRechts</td>\n",
       "    </tr>\n",
       "    <tr>\n",
       "      <th>2</th>\n",
       "      <td>61</td>\n",
       "      <td>Mann</td>\n",
       "      <td>2</td>\n",
       "      <td>2500</td>\n",
       "      <td>West</td>\n",
       "      <td>9</td>\n",
       "      <td>4</td>\n",
       "      <td>Nein</td>\n",
       "      <td>6</td>\n",
       "      <td>MitteRechts</td>\n",
       "    </tr>\n",
       "    <tr>\n",
       "      <th>3</th>\n",
       "      <td>54</td>\n",
       "      <td>Frau</td>\n",
       "      <td>2</td>\n",
       "      <td>860</td>\n",
       "      <td>West</td>\n",
       "      <td>3</td>\n",
       "      <td>2</td>\n",
       "      <td>Ja</td>\n",
       "      <td>1</td>\n",
       "      <td>Links</td>\n",
       "    </tr>\n",
       "    <tr>\n",
       "      <th>4</th>\n",
       "      <td>49</td>\n",
       "      <td>Mann</td>\n",
       "      <td>3</td>\n",
       "      <td>2500</td>\n",
       "      <td>West</td>\n",
       "      <td>7</td>\n",
       "      <td>5</td>\n",
       "      <td>Nein</td>\n",
       "      <td>6</td>\n",
       "      <td>MitteRechts</td>\n",
       "    </tr>\n",
       "  </tbody>\n",
       "</table>\n",
       "</div>"
      ],
      "text/plain": [
       "   age   sex  educ   inc eastwest  happiness  health lived_abroad  spectrum  \\\n",
       "0   47  Frau     3  1800      Ost          9       3         Nein         1   \n",
       "1   52  Mann     3  2000      Ost          8       3         Nein         5   \n",
       "2   61  Mann     2  2500     West          9       4         Nein         6   \n",
       "3   54  Frau     2   860     West          3       2           Ja         1   \n",
       "4   49  Mann     3  2500     West          7       5         Nein         6   \n",
       "\n",
       "  spectrum_cat  \n",
       "0        Links  \n",
       "1  MitteRechts  \n",
       "2  MitteRechts  \n",
       "3        Links  \n",
       "4  MitteRechts  "
      ]
     },
     "execution_count": 3,
     "metadata": {},
     "output_type": "execute_result"
    }
   ],
   "source": [
    "import pandas as pd\n",
    "df = pd.read_csv('allbus2016.csv', index_col=0)\n",
    "df.head()"
   ]
  },
  {
   "cell_type": "markdown",
   "metadata": {},
   "source": [
    "We see a data set with 9 variables, 6 continuous and 3 categorical. Next step is to import the mb_modelbase package and check some functions:"
   ]
  },
  {
   "cell_type": "code",
   "execution_count": 5,
   "metadata": {},
   "outputs": [],
   "source": [
    "import mb_modelbase as mbase"
   ]
  },
  {
   "cell_type": "code",
   "execution_count": null,
   "metadata": {
    "collapsed": true
   },
   "outputs": [],
   "source": []
  }
 ],
 "metadata": {
  "kernelspec": {
   "display_name": "Python 3",
   "language": "python",
   "name": "python3"
  },
  "language_info": {
   "codemirror_mode": {
    "name": "ipython",
    "version": 3
   },
   "file_extension": ".py",
   "mimetype": "text/x-python",
   "name": "python",
   "nbconvert_exporter": "python",
   "pygments_lexer": "ipython3",
   "version": "3.6.3"
  }
 },
 "nbformat": 4,
 "nbformat_minor": 2
}
