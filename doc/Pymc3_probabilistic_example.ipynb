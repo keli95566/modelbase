{
 "cells": [
  {
   "cell_type": "markdown",
   "metadata": {},
   "source": [
    "# Using the mb_modelbase package on probabilistic models built in PyMC3 \n",
    "\n",
    "Below is explained how mb_modelbase can be used to manipulate models built in PyMC3. This is necessary for displaying such models in the Lumen frontend. PyMC3 is a Python package for probabilistic programming that provides tools for describing and drawing inference from probabilistic Bayesian models."
   ]
  },
  {
   "cell_type": "markdown",
   "metadata": {},
   "source": [
    "## Setting up an example model\n",
    "To illustrate the application, an example model is created first. The underlying data generating mechanism consists of a quantity mu which is drawn from a standard normal distribution, and a quantity x which is drawn from a normal distribution with mean mu. One hundred data points are drawn this way:\n"
   ]
  },
  {
   "cell_type": "code",
   "execution_count": 8,
   "metadata": {},
   "outputs": [],
   "source": [
    "# Generate data for the example model\n",
    "import numpy as np\n",
    "\n",
    "np.random.seed(2)\n",
    "size = 100\n",
    "mu = np.random.normal(0, 1, size=size)\n",
    "sigma = 1\n",
    "X = np.random.normal(mu, sigma, size=size)"
   ]
  },
  {
   "cell_type": "markdown",
   "metadata": {},
   "source": [
    "Assume now that the quantity x can be observed, but the quantity mu cannot be observed. Using PyMC3, we now fit a model to the observed data:"
   ]
  },
  {
   "cell_type": "code",
   "execution_count": 9,
   "metadata": {},
   "outputs": [],
   "source": [
    "# Set up model with PyMC3\n",
    "\n",
    "import pandas as pd\n",
    "import pymc3 as pm\n",
    "\n",
    "data = pd.DataFrame({'X': X})\n",
    "basic_model = pm.Model()\n",
    "with basic_model:\n",
    "    sigma = 1\n",
    "    mu = pm.Normal('mu', mu=0, sd=sigma)\n",
    "    X = pm.Normal('X', mu=mu, sd=sigma, observed=data['X'])"
   ]
  },
  {
   "cell_type": "markdown",
   "metadata": {},
   "source": [
    "## Perform operations on the model in mb_modelbase\n",
    "mb_modelbase can now work with this model by creating an instance of the ProbabilisticPymc3Model class:"
   ]
  },
  {
   "cell_type": "code",
   "execution_count": 11,
   "metadata": {},
   "outputs": [
    {
     "ename": "ModuleNotFoundError",
     "evalue": "No module named 'mb_modelbase'",
     "output_type": "error",
     "traceback": [
      "\u001b[0;31m---------------------------------------------------------------------------\u001b[0m",
      "\u001b[0;31mModuleNotFoundError\u001b[0m                       Traceback (most recent call last)",
      "\u001b[0;32m<ipython-input-11-5403891892ea>\u001b[0m in \u001b[0;36m<module>\u001b[0;34m()\u001b[0m\n\u001b[1;32m      1\u001b[0m \u001b[0;31m# Run operations on the model\u001b[0m\u001b[0;34m\u001b[0m\u001b[0;34m\u001b[0m\u001b[0;34m\u001b[0m\u001b[0m\n\u001b[1;32m      2\u001b[0m \u001b[0;34m\u001b[0m\u001b[0m\n\u001b[0;32m----> 3\u001b[0;31m \u001b[0;32mfrom\u001b[0m \u001b[0mmb_modelbase\u001b[0m\u001b[0;34m.\u001b[0m\u001b[0mmodels_core\u001b[0m\u001b[0;34m.\u001b[0m\u001b[0mpyMC3_model\u001b[0m \u001b[0;32mimport\u001b[0m \u001b[0mProbabilisticPymc3Model\u001b[0m\u001b[0;34m\u001b[0m\u001b[0;34m\u001b[0m\u001b[0m\n\u001b[0m\u001b[1;32m      4\u001b[0m \u001b[0;34m\u001b[0m\u001b[0m\n\u001b[1;32m      5\u001b[0m \u001b[0mmodelname\u001b[0m \u001b[0;34m=\u001b[0m \u001b[0;34m'pymc3_testcase_model'\u001b[0m\u001b[0;34m\u001b[0m\u001b[0;34m\u001b[0m\u001b[0m\n",
      "\u001b[0;31mModuleNotFoundError\u001b[0m: No module named 'mb_modelbase'"
     ]
    }
   ],
   "source": [
    "# Run operations on the model\n",
    "\n",
    "from mb_modelbase.models_core.pyMC3_model import ProbabilisticPymc3Model\n",
    "\n",
    "modelname = 'pymc3_testcase_model'\n",
    "m = ProbabilisticPymc3Model(modelname, basic_model)"
   ]
  },
  {
   "cell_type": "markdown",
   "metadata": {},
   "source": [
    "In order to perform meaningful operations, the model has to be fitted. In the probabilistic context, this means that samples are created from the joint posterior disribution."
   ]
  },
  {
   "cell_type": "code",
   "execution_count": null,
   "metadata": {},
   "outputs": [],
   "source": [
    "m.fit(data)"
   ]
  },
  {
   "cell_type": "markdown",
   "metadata": {},
   "source": [
    "After that is is possible to query probability density for specific points as well as calculating the point of highest probability density."
   ]
  },
  {
   "cell_type": "code",
   "execution_count": null,
   "metadata": {},
   "outputs": [],
   "source": [
    "m.density([0,0])\n",
    "m.aggregate_model(method='maximum')"
   ]
  },
  {
   "cell_type": "markdown",
   "metadata": {},
   "source": [
    "It is also possible to marginalize and condition the model. Notice, that conditioning here only means that the of the domain variable is set. The model itself is not actually changed until the marginalize-method is called."
   ]
  },
  {
   "cell_type": "code",
   "execution_count": null,
   "metadata": {},
   "outputs": [],
   "source": [
    "m.marginalize(remove='x')\n",
    "m.condition('x>0').marginalize(remove='x')"
   ]
  }
 ],
 "metadata": {
  "kernelspec": {
   "display_name": "Python 3",
   "language": "python",
   "name": "python3"
  },
  "language_info": {
   "codemirror_mode": {
    "name": "ipython",
    "version": 3
   },
   "file_extension": ".py",
   "mimetype": "text/x-python",
   "name": "python",
   "nbconvert_exporter": "python",
   "pygments_lexer": "ipython3",
   "version": "3.7.1"
  }
 },
 "nbformat": 4,
 "nbformat_minor": 2
}
