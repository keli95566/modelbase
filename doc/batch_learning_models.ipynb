{
 "cells": [
  {
   "cell_type": "markdown",
   "metadata": {},
   "source": [
    "## Batch Learning of Models\n",
    "\n",
    "You can batch learn models from data by means of a specification dictionary and with the utility functions in `fit_models.py`.\n",
    "\n",
    "Here is the docs:"
   ]
  },
  {
   "cell_type": "code",
   "execution_count": 10,
   "metadata": {
    "scrolled": true
   },
   "outputs": [
    {
     "name": "stdout",
     "output_type": "stream",
     "text": [
      "Fits models according to provided specs and returns a dict of the learned models.\n",
      "\n",
      "    Args:\n",
      "        spec (dict): Dictionary of <name> to model specifications. A single model specification may either be a dict or\n",
      "            a callable (no arguments) that returns a dict. Either way, the configuration dict is as follows:\n",
      "                * 'class': Usually <class-object of model> but can be any function that returns a model when called.\n",
      "                * 'data': Optional. The data frame of data to use for fitting. If not spefified the 'class' is expected to return a fitted model.\n",
      "                * 'classopts': Optional. A dict passed as keyword-arguments to 'class'.\n",
      "                * 'fitopts': Optional. A dict passed as keyword-arguments to the .fit method of the created model instance.\n",
      "            The idea of the callable is that delay data acquisition until model selection.\n",
      "        verbose (bool): Optional. Defaults to False. More verbose logging iff set to true.\n",
      "        include (list-like of strings): Optional. Defaults to None. List of models to explicitly include. By default all are included.\n",
      "        exclude (list-like of strings): Optional. Defaults to None. List of models to explicitly exclude. By default none are excluded.\n",
      "\n",
      "    Returns: A dict of <name> to dict of 'model' that contains the learned model, status that contains the status\n",
      "        ('SUCCESS' or 'FAIL') and message that contains an optional message explaining the status.\n",
      "    \n"
     ]
    }
   ],
   "source": [
    "import pandas as pd\n",
    "from mb_modelbase.utils import fit_models\n",
    "\n",
    "print(fit_models.__doc__)\n",
    "# it should also pop up at the bottom on execution of this cell:\n",
    "fit_models??"
   ]
  },
  {
   "cell_type": "markdown",
   "metadata": {},
   "source": [
    "Here, we will specify to learn 3 models from the data in `./data`, as follows:"
   ]
  },
  {
   "cell_type": "code",
   "execution_count": 17,
   "metadata": {},
   "outputs": [],
   "source": [
    "# import various model types\n",
    "from mb_modelbase.models_core.mixable_cond_gaussian import MixableCondGaussianModel\n",
    "from mb_modelbase.models_core.spnmodel import SPNModel\n",
    "from mb_modelbase.models_core.empirical_model import EmpiricalModel\n",
    "\n",
    "# titanic.py provides preprocessing of the titanic data set\n",
    "import data.titanic as titanic\n",
    "\n",
    "# actual specifications\n",
    "specs = {\n",
    "    'emp_iris': {'class': EmpiricalModel, 'data': pd.read_csv('./data/iris.csv')},\n",
    "    'mcg_iris': {'class': MixableCondGaussianModel, 'data': pd.read_csv('./data/iris.csv'), 'fitopts': {'fit_algo': 'map'}},    \n",
    "    'spn_titanic': lambda: ({'class': SPNModel, 'data': titanic.continuous(), 'fitopts': {'iterations': 1}}),\n",
    "}"
   ]
  },
  {
   "cell_type": "markdown",
   "metadata": {},
   "source": [
    "Now we learn the models using fit_models:"
   ]
  },
  {
   "cell_type": "code",
   "execution_count": 18,
   "metadata": {},
   "outputs": [
    {
     "name": "stderr",
     "output_type": "stream",
     "text": [
      "16:35:44.187 INFO :: Fitted 3 models in total: {'mcg_iris', 'emp_iris', 'spn_titanic'}\n"
     ]
    }
   ],
   "source": [
    "models = fit_models(specs)"
   ]
  },
  {
   "cell_type": "markdown",
   "metadata": {},
   "source": [
    "`models` is a dict that contains the learned model and some additional status information about the fitting process:"
   ]
  },
  {
   "cell_type": "code",
   "execution_count": 19,
   "metadata": {},
   "outputs": [
    {
     "data": {
      "text/plain": [
       "{'emp_iris': {'model': <mb_modelbase.models_core.empirical_model.EmpiricalModel at 0x7f964bb31fd0>,\n",
       "  'status': 'SUCCESS'},\n",
       " 'mcg_iris': {'model': <mb_modelbase.models_core.mixable_cond_gaussian.MixableCondGaussianModel at 0x7f964dbcfd30>,\n",
       "  'status': 'SUCCESS'},\n",
       " 'spn_titanic': {'model': <mb_modelbase.models_core.spnmodel.SPNModel at 0x7f964dd1a4a8>,\n",
       "  'status': 'SUCCESS'}}"
      ]
     },
     "execution_count": 19,
     "metadata": {},
     "output_type": "execute_result"
    }
   ],
   "source": [
    "models"
   ]
  },
  {
   "cell_type": "markdown",
   "metadata": {},
   "source": [
    "Apparently everything went well and the fitted models are available under the key `model`.\n",
    "We can now save the models in a common directory via another utility function `save_models`:"
   ]
  },
  {
   "cell_type": "code",
   "execution_count": 20,
   "metadata": {},
   "outputs": [],
   "source": [
    "from mb_modelbase.utils import save_models\n",
    "\n",
    "save_models(models, './models')"
   ]
  },
  {
   "cell_type": "markdown",
   "metadata": {},
   "source": [
    "That directory now contains a new `.mdl` file for each learned model:\n",
    "(It also contains another model `Allbus_CondGauss.mdl` which shipped with lumen already.)"
   ]
  },
  {
   "cell_type": "code",
   "execution_count": 24,
   "metadata": {},
   "outputs": [
    {
     "name": "stdout",
     "output_type": "stream",
     "text": [
      "Allbus_CondGauss.mdl  emp_iris.mdl  mcg_iris.mdl  spn_titanic.mdl\r\n"
     ]
    }
   ],
   "source": [
    "%ls models"
   ]
  }
 ],
 "metadata": {
  "kernelspec": {
   "display_name": "Python 3",
   "language": "python",
   "name": "python3"
  },
  "language_info": {
   "codemirror_mode": {
    "name": "ipython",
    "version": 3
   },
   "file_extension": ".py",
   "mimetype": "text/x-python",
   "name": "python",
   "nbconvert_exporter": "python",
   "pygments_lexer": "ipython3",
   "version": "3.6.6"
  }
 },
 "nbformat": 4,
 "nbformat_minor": 2
}
