{
 "cells": [
  {
   "cell_type": "code",
   "execution_count": 1,
   "metadata": {},
   "outputs": [
    {
     "name": "stderr",
     "output_type": "stream",
     "text": [
      "16:34:41.701 WARNING :: Using NumPy C-API based implementation for BLAS functions.\n"
     ]
    }
   ],
   "source": [
    "import mb_modelbase as mbase\n",
    "from mb_modelbase.models_core.base import *\n",
    "from mb_modelbase.models_core.mixable_cond_gaussian import MixableCondGaussianModel as CondGaussian\n",
    "import pandas as pd"
   ]
  },
  {
   "cell_type": "code",
   "execution_count": 2,
   "metadata": {},
   "outputs": [
    {
     "data": {
      "text/html": [
       "<div>\n",
       "<style scoped>\n",
       "    .dataframe tbody tr th:only-of-type {\n",
       "        vertical-align: middle;\n",
       "    }\n",
       "\n",
       "    .dataframe tbody tr th {\n",
       "        vertical-align: top;\n",
       "    }\n",
       "\n",
       "    .dataframe thead th {\n",
       "        text-align: right;\n",
       "    }\n",
       "</style>\n",
       "<table border=\"1\" class=\"dataframe\">\n",
       "  <thead>\n",
       "    <tr style=\"text-align: right;\">\n",
       "      <th></th>\n",
       "      <th>age</th>\n",
       "      <th>sex</th>\n",
       "      <th>educ</th>\n",
       "      <th>income</th>\n",
       "      <th>eastwest</th>\n",
       "      <th>lived_abroad</th>\n",
       "      <th>spectrum</th>\n",
       "    </tr>\n",
       "  </thead>\n",
       "  <tbody>\n",
       "    <tr>\n",
       "      <th>0</th>\n",
       "      <td>47</td>\n",
       "      <td>Female</td>\n",
       "      <td>3</td>\n",
       "      <td>1800</td>\n",
       "      <td>East</td>\n",
       "      <td>No</td>\n",
       "      <td>1</td>\n",
       "    </tr>\n",
       "    <tr>\n",
       "      <th>1</th>\n",
       "      <td>52</td>\n",
       "      <td>Male</td>\n",
       "      <td>3</td>\n",
       "      <td>2000</td>\n",
       "      <td>East</td>\n",
       "      <td>No</td>\n",
       "      <td>5</td>\n",
       "    </tr>\n",
       "    <tr>\n",
       "      <th>2</th>\n",
       "      <td>61</td>\n",
       "      <td>Male</td>\n",
       "      <td>2</td>\n",
       "      <td>2500</td>\n",
       "      <td>West</td>\n",
       "      <td>No</td>\n",
       "      <td>6</td>\n",
       "    </tr>\n",
       "    <tr>\n",
       "      <th>3</th>\n",
       "      <td>54</td>\n",
       "      <td>Female</td>\n",
       "      <td>2</td>\n",
       "      <td>860</td>\n",
       "      <td>West</td>\n",
       "      <td>Yes</td>\n",
       "      <td>1</td>\n",
       "    </tr>\n",
       "    <tr>\n",
       "      <th>4</th>\n",
       "      <td>49</td>\n",
       "      <td>Male</td>\n",
       "      <td>3</td>\n",
       "      <td>2500</td>\n",
       "      <td>West</td>\n",
       "      <td>No</td>\n",
       "      <td>6</td>\n",
       "    </tr>\n",
       "  </tbody>\n",
       "</table>\n",
       "</div>"
      ],
      "text/plain": [
       "   age     sex  educ  income eastwest lived_abroad  spectrum\n",
       "0   47  Female     3    1800     East           No         1\n",
       "1   52    Male     3    2000     East           No         5\n",
       "2   61    Male     2    2500     West           No         6\n",
       "3   54  Female     2     860     West          Yes         1\n",
       "4   49    Male     3    2500     West           No         6"
      ]
     },
     "execution_count": 2,
     "metadata": {},
     "output_type": "execute_result"
    }
   ],
   "source": [
    "data = pd.read_csv('data/allbus2016.csv', index_col=0)\n",
    "data.head()"
   ]
  },
  {
   "cell_type": "code",
   "execution_count": 3,
   "metadata": {},
   "outputs": [],
   "source": [
    "model = CondGaussian(\"mymodel\").fit(df=data)"
   ]
  },
  {
   "cell_type": "code",
   "execution_count": 4,
   "metadata": {},
   "outputs": [
    {
     "data": {
      "text/plain": [
       "['sex', 'eastwest', 'lived_abroad', 'age', 'educ', 'income', 'spectrum']"
      ]
     },
     "execution_count": 4,
     "metadata": {},
     "output_type": "execute_result"
    }
   ],
   "source": [
    "model.names"
   ]
  },
  {
   "cell_type": "code",
   "execution_count": 5,
   "metadata": {},
   "outputs": [],
   "source": [
    "sex = model.byname('sex')\n",
    "eastwest = model.byname('eastwest')\n",
    "age = model.byname('age')\n",
    "income = model.byname('income')"
   ]
  },
  {
   "cell_type": "code",
   "execution_count": 6,
   "metadata": {},
   "outputs": [
    {
     "name": "stdout",
     "output_type": "stream",
     "text": [
      "    density(['income'])\n",
      "0              0.001750\n",
      "1              0.005406\n",
      "2              0.016658\n",
      "3              0.049093\n",
      "4              0.128037\n",
      "5              0.267814\n",
      "6              0.412921\n",
      "7              0.456217\n",
      "8              0.378730\n",
      "9              0.262869\n",
      "10             0.169508\n",
      "11             0.106712\n",
      "12             0.065619\n",
      "13             0.038665\n",
      "14             0.021430\n",
      "15             0.011075\n",
      "16             0.005343\n",
      "17             0.002423\n",
      "18             0.001040\n",
      "19             0.000423\n",
      "20             0.000163\n",
      "21             0.000059\n",
      "22             0.000020\n",
      "23             0.000006\n",
      "24             0.000002\n"
     ]
    }
   ],
   "source": [
    "res = model.predict(Density(income), splitby=Split(income))\n",
    "print(res)"
   ]
  },
  {
   "cell_type": "code",
   "execution_count": 7,
   "metadata": {},
   "outputs": [
    {
     "name": "stdout",
     "output_type": "stream",
     "text": [
      "  sex@maximum(['sex'])\n",
      "0                 Male\n",
      "1                 Male\n"
     ]
    }
   ],
   "source": [
    "res = model.predict(Aggregation('sex'), splitby=Split(eastwest))\n",
    "print(res)"
   ]
  },
  {
   "cell_type": "code",
   "execution_count": 12,
   "metadata": {},
   "outputs": [
    {
     "name": "stdout",
     "output_type": "stream",
     "text": [
      "   income sex@maximum(['sex'])\n",
      "0     500               Female\n",
      "1    1000               Female\n",
      "2    2000               Female\n",
      "3    2500                 Male\n",
      "4    3000                 Male\n"
     ]
    }
   ],
   "source": [
    "#res = model.predict(['income', Aggregation('sex')], splitby=Split(income))\n",
    "res = model.predict(['income', Aggregation('sex')], for_data=pd.DataFrame(data={'income': [500, 1000, 2000, 2500, 3000]}))\n",
    "print(res)"
   ]
  },
  {
   "cell_type": "code",
   "execution_count": null,
   "metadata": {},
   "outputs": [],
   "source": []
  }
 ],
 "metadata": {
  "kernelspec": {
   "display_name": "Python 3",
   "language": "python",
   "name": "python3"
  },
  "language_info": {
   "codemirror_mode": {
    "name": "ipython",
    "version": 3
   },
   "file_extension": ".py",
   "mimetype": "text/x-python",
   "name": "python",
   "nbconvert_exporter": "python",
   "pygments_lexer": "ipython3",
   "version": "3.6.6"
  }
 },
 "nbformat": 4,
 "nbformat_minor": 2
}
