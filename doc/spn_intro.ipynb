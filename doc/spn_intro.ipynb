{
  "cells": [
    {
      "cell_type": "markdown",
      "source": "This is an introduction on how to use the Sum Product Networks from mb_modelbase/models_core/spflow.py. \nThey are implemented using the Tensorflow-based Library SPFlow (https://github.com/SPFlow/SPFlow)",
      "metadata": {
        "pycharm": {
          "metadata": false,
          "name": "#%% md\n"
        }
      }
    },
    {
      "cell_type": "markdown",
      "source": "We begin by loading some data to model and train the SPNs on.",
      "metadata": {
        "pycharm": {
          "metadata": false,
          "name": "#%% md\n"
        }
      }
    },
    {
      "cell_type": "code",
      "execution_count": 11,
      "outputs": [
        {
          "data": {
            "text/plain": "   age     sex  educ  income eastwest lived_abroad  spectrum\n0   47  Female     3    1800     East           No         1\n1   52    Male     3    2000     East           No         5\n2   61    Male     2    2500     West           No         6\n3   54  Female     2     860     West          Yes         1\n4   49    Male     3    2500     West           No         6",
            "text/html": "\u003cdiv\u003e\n\u003cstyle scoped\u003e\n    .dataframe tbody tr th:only-of-type {\n        vertical-align: middle;\n    }\n\n    .dataframe tbody tr th {\n        vertical-align: top;\n    }\n\n    .dataframe thead th {\n        text-align: right;\n    }\n\u003c/style\u003e\n\u003ctable border\u003d\"1\" class\u003d\"dataframe\"\u003e\n  \u003cthead\u003e\n    \u003ctr style\u003d\"text-align: right;\"\u003e\n      \u003cth\u003e\u003c/th\u003e\n      \u003cth\u003eage\u003c/th\u003e\n      \u003cth\u003esex\u003c/th\u003e\n      \u003cth\u003eeduc\u003c/th\u003e\n      \u003cth\u003eincome\u003c/th\u003e\n      \u003cth\u003eeastwest\u003c/th\u003e\n      \u003cth\u003elived_abroad\u003c/th\u003e\n      \u003cth\u003espectrum\u003c/th\u003e\n    \u003c/tr\u003e\n  \u003c/thead\u003e\n  \u003ctbody\u003e\n    \u003ctr\u003e\n      \u003cth\u003e0\u003c/th\u003e\n      \u003ctd\u003e47\u003c/td\u003e\n      \u003ctd\u003eFemale\u003c/td\u003e\n      \u003ctd\u003e3\u003c/td\u003e\n      \u003ctd\u003e1800\u003c/td\u003e\n      \u003ctd\u003eEast\u003c/td\u003e\n      \u003ctd\u003eNo\u003c/td\u003e\n      \u003ctd\u003e1\u003c/td\u003e\n    \u003c/tr\u003e\n    \u003ctr\u003e\n      \u003cth\u003e1\u003c/th\u003e\n      \u003ctd\u003e52\u003c/td\u003e\n      \u003ctd\u003eMale\u003c/td\u003e\n      \u003ctd\u003e3\u003c/td\u003e\n      \u003ctd\u003e2000\u003c/td\u003e\n      \u003ctd\u003eEast\u003c/td\u003e\n      \u003ctd\u003eNo\u003c/td\u003e\n      \u003ctd\u003e5\u003c/td\u003e\n    \u003c/tr\u003e\n    \u003ctr\u003e\n      \u003cth\u003e2\u003c/th\u003e\n      \u003ctd\u003e61\u003c/td\u003e\n      \u003ctd\u003eMale\u003c/td\u003e\n      \u003ctd\u003e2\u003c/td\u003e\n      \u003ctd\u003e2500\u003c/td\u003e\n      \u003ctd\u003eWest\u003c/td\u003e\n      \u003ctd\u003eNo\u003c/td\u003e\n      \u003ctd\u003e6\u003c/td\u003e\n    \u003c/tr\u003e\n    \u003ctr\u003e\n      \u003cth\u003e3\u003c/th\u003e\n      \u003ctd\u003e54\u003c/td\u003e\n      \u003ctd\u003eFemale\u003c/td\u003e\n      \u003ctd\u003e2\u003c/td\u003e\n      \u003ctd\u003e860\u003c/td\u003e\n      \u003ctd\u003eWest\u003c/td\u003e\n      \u003ctd\u003eYes\u003c/td\u003e\n      \u003ctd\u003e1\u003c/td\u003e\n    \u003c/tr\u003e\n    \u003ctr\u003e\n      \u003cth\u003e4\u003c/th\u003e\n      \u003ctd\u003e49\u003c/td\u003e\n      \u003ctd\u003eMale\u003c/td\u003e\n      \u003ctd\u003e3\u003c/td\u003e\n      \u003ctd\u003e2500\u003c/td\u003e\n      \u003ctd\u003eWest\u003c/td\u003e\n      \u003ctd\u003eNo\u003c/td\u003e\n      \u003ctd\u003e6\u003c/td\u003e\n    \u003c/tr\u003e\n  \u003c/tbody\u003e\n\u003c/table\u003e\n\u003c/div\u003e"
          },
          "metadata": {},
          "output_type": "execute_result",
          "execution_count": 11
        }
      ],
      "source": "import pandas as pd\ndataset \u003d pd.read_csv(\u0027data/allbus2016.csv\u0027, index_col\u003d0)\ndataset.head()",
      "metadata": {
        "pycharm": {
          "metadata": false,
          "name": "#%%\n",
          "is_executing": false
        }
      }
    },
    {
      "cell_type": "code",
      "execution_count": 12,
      "outputs": [
        {
          "data": {
            "text/plain": "age              int64\nsex             object\neduc             int64\nincome           int64\neastwest        object\nlived_abroad    object\nspectrum         int64\ndtype: object"
          },
          "metadata": {},
          "output_type": "execute_result",
          "execution_count": 12
        }
      ],
      "source": "dataset.dtypes\n",
      "metadata": {
        "pycharm": {
          "metadata": false,
          "name": "#%%\n",
          "is_executing": false
        }
      }
    },
    {
      "cell_type": "code",
      "execution_count": 23,
      "outputs": [
        {
          "data": {
            "text/plain": "   sepal_length  sepal_width  petal_length  petal_width species\n0           5.1          3.5           1.4          0.2  setosa\n1           4.9          3.0           1.4          0.2  setosa\n2           4.7          3.2           1.3          0.2  setosa\n3           4.6          3.1           1.5          0.2  setosa\n4           5.0          3.6           1.4          0.2  setosa",
            "text/html": "\u003cdiv\u003e\n\u003cstyle scoped\u003e\n    .dataframe tbody tr th:only-of-type {\n        vertical-align: middle;\n    }\n\n    .dataframe tbody tr th {\n        vertical-align: top;\n    }\n\n    .dataframe thead th {\n        text-align: right;\n    }\n\u003c/style\u003e\n\u003ctable border\u003d\"1\" class\u003d\"dataframe\"\u003e\n  \u003cthead\u003e\n    \u003ctr style\u003d\"text-align: right;\"\u003e\n      \u003cth\u003e\u003c/th\u003e\n      \u003cth\u003esepal_length\u003c/th\u003e\n      \u003cth\u003esepal_width\u003c/th\u003e\n      \u003cth\u003epetal_length\u003c/th\u003e\n      \u003cth\u003epetal_width\u003c/th\u003e\n      \u003cth\u003especies\u003c/th\u003e\n    \u003c/tr\u003e\n  \u003c/thead\u003e\n  \u003ctbody\u003e\n    \u003ctr\u003e\n      \u003cth\u003e0\u003c/th\u003e\n      \u003ctd\u003e5.1\u003c/td\u003e\n      \u003ctd\u003e3.5\u003c/td\u003e\n      \u003ctd\u003e1.4\u003c/td\u003e\n      \u003ctd\u003e0.2\u003c/td\u003e\n      \u003ctd\u003esetosa\u003c/td\u003e\n    \u003c/tr\u003e\n    \u003ctr\u003e\n      \u003cth\u003e1\u003c/th\u003e\n      \u003ctd\u003e4.9\u003c/td\u003e\n      \u003ctd\u003e3.0\u003c/td\u003e\n      \u003ctd\u003e1.4\u003c/td\u003e\n      \u003ctd\u003e0.2\u003c/td\u003e\n      \u003ctd\u003esetosa\u003c/td\u003e\n    \u003c/tr\u003e\n    \u003ctr\u003e\n      \u003cth\u003e2\u003c/th\u003e\n      \u003ctd\u003e4.7\u003c/td\u003e\n      \u003ctd\u003e3.2\u003c/td\u003e\n      \u003ctd\u003e1.3\u003c/td\u003e\n      \u003ctd\u003e0.2\u003c/td\u003e\n      \u003ctd\u003esetosa\u003c/td\u003e\n    \u003c/tr\u003e\n    \u003ctr\u003e\n      \u003cth\u003e3\u003c/th\u003e\n      \u003ctd\u003e4.6\u003c/td\u003e\n      \u003ctd\u003e3.1\u003c/td\u003e\n      \u003ctd\u003e1.5\u003c/td\u003e\n      \u003ctd\u003e0.2\u003c/td\u003e\n      \u003ctd\u003esetosa\u003c/td\u003e\n    \u003c/tr\u003e\n    \u003ctr\u003e\n      \u003cth\u003e4\u003c/th\u003e\n      \u003ctd\u003e5.0\u003c/td\u003e\n      \u003ctd\u003e3.6\u003c/td\u003e\n      \u003ctd\u003e1.4\u003c/td\u003e\n      \u003ctd\u003e0.2\u003c/td\u003e\n      \u003ctd\u003esetosa\u003c/td\u003e\n    \u003c/tr\u003e\n  \u003c/tbody\u003e\n\u003c/table\u003e\n\u003c/div\u003e"
          },
          "metadata": {},
          "output_type": "execute_result",
          "execution_count": 23
        }
      ],
      "source": "iris \u003d pd.read_csv(\u0027data/iris.csv\u0027)\niris.head()\n",
      "metadata": {
        "pycharm": {
          "metadata": false,
          "name": "#%%\n",
          "is_executing": false
        }
      }
    },
    {
      "cell_type": "markdown",
      "source": "We construct a SPN and a Mixed SPN to be trained on the dataset",
      "metadata": {
        "pycharm": {
          "metadata": false,
          "name": "#%% md\n"
        }
      }
    },
    {
      "cell_type": "code",
      "execution_count": 13,
      "outputs": [],
      "source": "from mb_modelbase.models_core.spflow import SPNModel\n\nspn_model \u003d SPNModel(\n    \u0027Allbus SPN\u0027,\n    spn_type\u003d\u0027spn\u0027\n)\n\nmspn_model \u003d SPNModel(\n    \u0027Allbus MSPN\u0027,\n    spn_type\u003d\u0027mspn\u0027\n)\n",
      "metadata": {
        "pycharm": {
          "metadata": false,
          "name": "#%%\n",
          "is_executing": false
        }
      }
    },
    {
      "cell_type": "markdown",
      "source": "To train a Sum Product Network we have to choose types of distributions to model the features of our dataset.",
      "metadata": {
        "pycharm": {
          "metadata": false
        }
      }
    },
    {
      "cell_type": "code",
      "execution_count": 14,
      "outputs": [
        {
          "data": {
            "text/plain": "{\u0027age\u0027: spn.structure.leaves.parametric.Parametric.Poisson,\n \u0027sex\u0027: spn.structure.leaves.parametric.Parametric.Bernoulli,\n \u0027educ\u0027: spn.structure.leaves.parametric.Parametric.Categorical,\n \u0027income\u0027: spn.structure.leaves.parametric.Parametric.Poisson,\n \u0027eastwest\u0027: spn.structure.leaves.parametric.Parametric.Bernoulli,\n \u0027lived_abroad\u0027: spn.structure.leaves.parametric.Parametric.Bernoulli,\n \u0027spectrum\u0027: spn.structure.leaves.parametric.Parametric.Categorical}"
          },
          "metadata": {},
          "output_type": "execute_result",
          "execution_count": 14
        }
      ],
      "source": "import spn.structure.leaves.parametric.Parametric as spn_parameter_types\n\nspn_types \u003d {\n        \u0027age\u0027: spn_parameter_types.Poisson,\n        \u0027sex\u0027: spn_parameter_types.Bernoulli,\n        \u0027educ\u0027: spn_parameter_types.Categorical,\n        \u0027income\u0027: spn_parameter_types.Poisson,\n        \u0027eastwest\u0027: spn_parameter_types.Bernoulli,\n        \u0027lived_abroad\u0027: spn_parameter_types.Bernoulli,\n        \u0027spectrum\u0027: spn_parameter_types.Categorical\n    }\nspn_types\n",
      "metadata": {
        "pycharm": {
          "metadata": false,
          "name": "#%%\n",
          "is_executing": false
        }
      }
    },
    {
      "cell_type": "markdown",
      "source": "To train our MSPN we only have to specify the Metatype of the variable.",
      "metadata": {
        "pycharm": {
          "metadata": false,
          "name": "#%% md\n"
        }
      }
    },
    {
      "cell_type": "code",
      "execution_count": 24,
      "outputs": [
        {
          "data": {
            "text/plain": "{\u0027sepal_width\u0027: \u003cMetaType.REAL: 1\u003e,\n \u0027sepal_length\u0027: \u003cMetaType.REAL: 1\u003e,\n \u0027petal_width\u0027: \u003cMetaType.REAL: 1\u003e,\n \u0027petal_length\u0027: \u003cMetaType.REAL: 1\u003e,\n \u0027species\u0027: \u003cMetaType.DISCRETE: 3\u003e}"
          },
          "metadata": {},
          "output_type": "execute_result",
          "execution_count": 24
        }
      ],
      "source": "import spn.structure.StatisticalTypes as spn_statistical_types\n\nmspn_metatypes \u003d {\n        \u0027age\u0027: spn_statistical_types.MetaType.DISCRETE,\n        \u0027sex\u0027: spn_statistical_types.MetaType.DISCRETE,\n        \u0027educ\u0027: spn_statistical_types.MetaType.DISCRETE,\n        \u0027income\u0027: spn_statistical_types.MetaType.DISCRETE,\n        \u0027eastwest\u0027: spn_statistical_types.MetaType.DISCRETE,\n        \u0027lived_abroad\u0027: spn_statistical_types.MetaType.DISCRETE,\n        \u0027spectrum\u0027: spn_statistical_types.MetaType.DISCRETE\n    }\n\nmspn_metatypes",
      "metadata": {
        "pycharm": {
          "metadata": false,
          "name": "#%%\n",
          "is_executing": false
        }
      }
    },
    {
      "cell_type": "markdown",
      "source": "After associating the variables with types we can train our models",
      "metadata": {
        "pycharm": {
          "metadata": false,
          "name": "#%% md\n"
        }
      }
    },
    {
      "cell_type": "code",
      "execution_count": 26,
      "outputs": [
        {
          "data": {
            "text/plain": "\u003cmb_modelbase.models_core.spflow.SPNModel at 0x7fde48186780\u003e"
          },
          "metadata": {},
          "output_type": "execute_result",
          "execution_count": 26
        }
      ],
      "source": "spn_model.fit(\n    df\u003ddataset,\n    var_types\u003dspn_types\n)\n\nmspn_model.fit(\n    df\u003ddataset,\n    var_types\u003dmspn_metatypes\n)\n",
      "metadata": {
        "pycharm": {
          "metadata": false,
          "name": "#%%\n",
          "is_executing": false
        }
      }
    },
    {
      "cell_type": "markdown",
      "source": "And finally use the model interface. We can sample from the distribution",
      "metadata": {
        "pycharm": {
          "metadata": false,
          "name": "#%% md\n"
        }
      }
    },
    {
      "cell_type": "code",
      "execution_count": 20,
      "outputs": [
        {
          "name": "stdout",
          "text": [
            "[[1.000e+00 1.000e+00 0.000e+00 4.500e+01 3.000e+00 1.266e+03 6.000e+00]]\n[0, 1, 2, 3, 4, 5, 6]\n[1.0, 1.0, 0.0, 45.0, 3.0, 1266.0, 6.0]\n"
          ],
          "output_type": "stream"
        },
        {
          "data": {
            "text/plain": "    sex eastwest lived_abroad   age  educ  income  spectrum\n0  Male     West           No  45.0   3.0  1266.0       6.0",
            "text/html": "\u003cdiv\u003e\n\u003cstyle scoped\u003e\n    .dataframe tbody tr th:only-of-type {\n        vertical-align: middle;\n    }\n\n    .dataframe tbody tr th {\n        vertical-align: top;\n    }\n\n    .dataframe thead th {\n        text-align: right;\n    }\n\u003c/style\u003e\n\u003ctable border\u003d\"1\" class\u003d\"dataframe\"\u003e\n  \u003cthead\u003e\n    \u003ctr style\u003d\"text-align: right;\"\u003e\n      \u003cth\u003e\u003c/th\u003e\n      \u003cth\u003esex\u003c/th\u003e\n      \u003cth\u003eeastwest\u003c/th\u003e\n      \u003cth\u003elived_abroad\u003c/th\u003e\n      \u003cth\u003eage\u003c/th\u003e\n      \u003cth\u003eeduc\u003c/th\u003e\n      \u003cth\u003eincome\u003c/th\u003e\n      \u003cth\u003espectrum\u003c/th\u003e\n    \u003c/tr\u003e\n  \u003c/thead\u003e\n  \u003ctbody\u003e\n    \u003ctr\u003e\n      \u003cth\u003e0\u003c/th\u003e\n      \u003ctd\u003eMale\u003c/td\u003e\n      \u003ctd\u003eWest\u003c/td\u003e\n      \u003ctd\u003eNo\u003c/td\u003e\n      \u003ctd\u003e45.0\u003c/td\u003e\n      \u003ctd\u003e3.0\u003c/td\u003e\n      \u003ctd\u003e1266.0\u003c/td\u003e\n      \u003ctd\u003e6.0\u003c/td\u003e\n    \u003c/tr\u003e\n  \u003c/tbody\u003e\n\u003c/table\u003e\n\u003c/div\u003e"
          },
          "metadata": {},
          "output_type": "execute_result",
          "execution_count": 20
        }
      ],
      "source": "spn_model.sample()",
      "metadata": {
        "pycharm": {
          "metadata": false,
          "name": "#%%\n",
          "is_executing": false
        }
      }
    },
    {
      "cell_type": "code",
      "execution_count": 21,
      "outputs": [
        {
          "traceback": [
            "\u001b[0;31m---------------------------------------------------------------------------\u001b[0m",
            "\u001b[0;31mAssertionError\u001b[0m                            Traceback (most recent call last)",
            "\u001b[0;32m\u003cipython-input-21-36f9deda5224\u003e\u001b[0m in \u001b[0;36m\u003cmodule\u003e\u001b[0;34m\u001b[0m\n\u001b[0;32m----\u003e 1\u001b[0;31m \u001b[0mmspn_model\u001b[0m\u001b[0;34m.\u001b[0m\u001b[0msample\u001b[0m\u001b[0;34m(\u001b[0m\u001b[0;34m)\u001b[0m\u001b[0;34m\u001b[0m\u001b[0;34m\u001b[0m\u001b[0m\n\u001b[0m",
            "\u001b[0;32m~/apps/anaconda3/envs/modelbase/lib/python3.6/site-packages/mb_modelbase/models_core/models.py\u001b[0m in \u001b[0;36msample\u001b[0;34m(self, n)\u001b[0m\n\u001b[1;32m   1337\u001b[0m         \u001b[0msamples\u001b[0m \u001b[0;34m\u003d\u001b[0m \u001b[0;34m(\u001b[0m\u001b[0mself\u001b[0m\u001b[0;34m.\u001b[0m\u001b[0m_sample\u001b[0m\u001b[0;34m(\u001b[0m\u001b[0;34m)\u001b[0m \u001b[0;32mfor\u001b[0m \u001b[0mi\u001b[0m \u001b[0;32min\u001b[0m \u001b[0mrange\u001b[0m\u001b[0;34m(\u001b[0m\u001b[0mn\u001b[0m\u001b[0;34m)\u001b[0m\u001b[0;34m)\u001b[0m\u001b[0;34m\u001b[0m\u001b[0;34m\u001b[0m\u001b[0m\n\u001b[1;32m   1338\u001b[0m         \u001b[0mhidden_dims\u001b[0m \u001b[0;34m\u003d\u001b[0m \u001b[0;34m[\u001b[0m\u001b[0mf\u001b[0m\u001b[0;34m[\u001b[0m\u001b[0;34m\u0027name\u0027\u001b[0m\u001b[0;34m]\u001b[0m \u001b[0;32mfor\u001b[0m \u001b[0mf\u001b[0m \u001b[0;32min\u001b[0m \u001b[0mself\u001b[0m\u001b[0;34m.\u001b[0m\u001b[0mfields\u001b[0m \u001b[0;32mif\u001b[0m \u001b[0mf\u001b[0m\u001b[0;34m[\u001b[0m\u001b[0;34m\u0027hidden\u0027\u001b[0m\u001b[0;34m]\u001b[0m\u001b[0;34m]\u001b[0m\u001b[0;34m\u001b[0m\u001b[0;34m\u001b[0m\u001b[0m\n\u001b[0;32m-\u003e 1339\u001b[0;31m         \u001b[0;32mreturn\u001b[0m \u001b[0mpd\u001b[0m\u001b[0;34m.\u001b[0m\u001b[0mDataFrame\u001b[0m\u001b[0;34m.\u001b[0m\u001b[0mfrom_records\u001b[0m\u001b[0;34m(\u001b[0m\u001b[0mdata\u001b[0m\u001b[0;34m\u003d\u001b[0m\u001b[0msamples\u001b[0m\u001b[0;34m,\u001b[0m \u001b[0mcolumns\u001b[0m\u001b[0;34m\u003d\u001b[0m\u001b[0mself\u001b[0m\u001b[0;34m.\u001b[0m\u001b[0mnames\u001b[0m\u001b[0;34m,\u001b[0m \u001b[0mexclude\u001b[0m\u001b[0;34m\u003d\u001b[0m\u001b[0mhidden_dims\u001b[0m\u001b[0;34m)\u001b[0m\u001b[0;34m\u001b[0m\u001b[0;34m\u001b[0m\u001b[0m\n\u001b[0m\u001b[1;32m   1340\u001b[0m \u001b[0;34m\u001b[0m\u001b[0m\n\u001b[1;32m   1341\u001b[0m     \u001b[0;32mdef\u001b[0m \u001b[0m_sample\u001b[0m\u001b[0;34m(\u001b[0m\u001b[0mself\u001b[0m\u001b[0;34m)\u001b[0m\u001b[0;34m:\u001b[0m\u001b[0;34m\u001b[0m\u001b[0;34m\u001b[0m\u001b[0m\n",
            "\u001b[0;32m~/apps/anaconda3/envs/modelbase/lib/python3.6/site-packages/pandas/core/frame.py\u001b[0m in \u001b[0;36mfrom_records\u001b[0;34m(cls, data, index, exclude, columns, coerce_float, nrows)\u001b[0m\n\u001b[1;32m   1468\u001b[0m \u001b[0;34m\u001b[0m\u001b[0m\n\u001b[1;32m   1469\u001b[0m             \u001b[0;32mtry\u001b[0m\u001b[0;34m:\u001b[0m\u001b[0;34m\u001b[0m\u001b[0;34m\u001b[0m\u001b[0m\n\u001b[0;32m-\u003e 1470\u001b[0;31m                 \u001b[0mfirst_row\u001b[0m \u001b[0;34m\u003d\u001b[0m \u001b[0mnext\u001b[0m\u001b[0;34m(\u001b[0m\u001b[0mdata\u001b[0m\u001b[0;34m)\u001b[0m\u001b[0;34m\u001b[0m\u001b[0;34m\u001b[0m\u001b[0m\n\u001b[0m\u001b[1;32m   1471\u001b[0m             \u001b[0;32mexcept\u001b[0m \u001b[0mStopIteration\u001b[0m\u001b[0;34m:\u001b[0m\u001b[0;34m\u001b[0m\u001b[0;34m\u001b[0m\u001b[0m\n\u001b[1;32m   1472\u001b[0m                 \u001b[0;32mreturn\u001b[0m \u001b[0mcls\u001b[0m\u001b[0;34m(\u001b[0m\u001b[0mindex\u001b[0m\u001b[0;34m\u003d\u001b[0m\u001b[0mindex\u001b[0m\u001b[0;34m,\u001b[0m \u001b[0mcolumns\u001b[0m\u001b[0;34m\u003d\u001b[0m\u001b[0mcolumns\u001b[0m\u001b[0;34m)\u001b[0m\u001b[0;34m\u001b[0m\u001b[0;34m\u001b[0m\u001b[0m\n",
            "\u001b[0;32m~/apps/anaconda3/envs/modelbase/lib/python3.6/site-packages/mb_modelbase/models_core/models.py\u001b[0m in \u001b[0;36m\u003cgenexpr\u003e\u001b[0;34m(.0)\u001b[0m\n\u001b[1;32m   1335\u001b[0m         \u001b[0;32mif\u001b[0m \u001b[0mself\u001b[0m\u001b[0;34m.\u001b[0m\u001b[0m_isempty\u001b[0m\u001b[0;34m(\u001b[0m\u001b[0;34m)\u001b[0m\u001b[0;34m:\u001b[0m\u001b[0;34m\u001b[0m\u001b[0;34m\u001b[0m\u001b[0m\n\u001b[1;32m   1336\u001b[0m             \u001b[0;32mraise\u001b[0m \u001b[0mValueError\u001b[0m\u001b[0;34m(\u001b[0m\u001b[0;34m\u0027Cannot sample from 0-dimensional model\u0027\u001b[0m\u001b[0;34m)\u001b[0m\u001b[0;34m\u001b[0m\u001b[0;34m\u001b[0m\u001b[0m\n\u001b[0;32m-\u003e 1337\u001b[0;31m         \u001b[0msamples\u001b[0m \u001b[0;34m\u003d\u001b[0m \u001b[0;34m(\u001b[0m\u001b[0mself\u001b[0m\u001b[0;34m.\u001b[0m\u001b[0m_sample\u001b[0m\u001b[0;34m(\u001b[0m\u001b[0;34m)\u001b[0m \u001b[0;32mfor\u001b[0m \u001b[0mi\u001b[0m \u001b[0;32min\u001b[0m \u001b[0mrange\u001b[0m\u001b[0;34m(\u001b[0m\u001b[0mn\u001b[0m\u001b[0;34m)\u001b[0m\u001b[0;34m)\u001b[0m\u001b[0;34m\u001b[0m\u001b[0;34m\u001b[0m\u001b[0m\n\u001b[0m\u001b[1;32m   1338\u001b[0m         \u001b[0mhidden_dims\u001b[0m \u001b[0;34m\u003d\u001b[0m \u001b[0;34m[\u001b[0m\u001b[0mf\u001b[0m\u001b[0;34m[\u001b[0m\u001b[0;34m\u0027name\u0027\u001b[0m\u001b[0;34m]\u001b[0m \u001b[0;32mfor\u001b[0m \u001b[0mf\u001b[0m \u001b[0;32min\u001b[0m \u001b[0mself\u001b[0m\u001b[0;34m.\u001b[0m\u001b[0mfields\u001b[0m \u001b[0;32mif\u001b[0m \u001b[0mf\u001b[0m\u001b[0;34m[\u001b[0m\u001b[0;34m\u0027hidden\u0027\u001b[0m\u001b[0;34m]\u001b[0m\u001b[0;34m]\u001b[0m\u001b[0;34m\u001b[0m\u001b[0;34m\u001b[0m\u001b[0m\n\u001b[1;32m   1339\u001b[0m         \u001b[0;32mreturn\u001b[0m \u001b[0mpd\u001b[0m\u001b[0;34m.\u001b[0m\u001b[0mDataFrame\u001b[0m\u001b[0;34m.\u001b[0m\u001b[0mfrom_records\u001b[0m\u001b[0;34m(\u001b[0m\u001b[0mdata\u001b[0m\u001b[0;34m\u003d\u001b[0m\u001b[0msamples\u001b[0m\u001b[0;34m,\u001b[0m \u001b[0mcolumns\u001b[0m\u001b[0;34m\u003d\u001b[0m\u001b[0mself\u001b[0m\u001b[0;34m.\u001b[0m\u001b[0mnames\u001b[0m\u001b[0;34m,\u001b[0m \u001b[0mexclude\u001b[0m\u001b[0;34m\u003d\u001b[0m\u001b[0mhidden_dims\u001b[0m\u001b[0;34m)\u001b[0m\u001b[0;34m\u001b[0m\u001b[0;34m\u001b[0m\u001b[0m\n",
            "\u001b[0;32m~/apps/anaconda3/envs/modelbase/lib/python3.6/site-packages/mb_modelbase/models_core/spflow.py\u001b[0m in \u001b[0;36m_sample\u001b[0;34m(self, random_state)\u001b[0m\n\u001b[1;32m    187\u001b[0m     \u001b[0;32mdef\u001b[0m \u001b[0m_sample\u001b[0m\u001b[0;34m(\u001b[0m\u001b[0mself\u001b[0m\u001b[0;34m,\u001b[0m \u001b[0mrandom_state\u001b[0m\u001b[0;34m\u003d\u001b[0m\u001b[0mRandomState\u001b[0m\u001b[0;34m(\u001b[0m\u001b[0;36m123\u001b[0m\u001b[0;34m)\u001b[0m\u001b[0;34m)\u001b[0m\u001b[0;34m:\u001b[0m\u001b[0;34m\u001b[0m\u001b[0;34m\u001b[0m\u001b[0m\n\u001b[1;32m    188\u001b[0m         \u001b[0mplaceholder\u001b[0m \u001b[0;34m\u003d\u001b[0m \u001b[0mself\u001b[0m\u001b[0;34m.\u001b[0m\u001b[0m_condition\u001b[0m\u001b[0;34m.\u001b[0m\u001b[0mcopy\u001b[0m\u001b[0;34m(\u001b[0m\u001b[0;34m)\u001b[0m\u001b[0;34m\u001b[0m\u001b[0;34m\u001b[0m\u001b[0m\n\u001b[0;32m--\u003e 189\u001b[0;31m         \u001b[0ms\u001b[0m \u001b[0;34m\u003d\u001b[0m \u001b[0msample_instances\u001b[0m\u001b[0;34m(\u001b[0m\u001b[0mself\u001b[0m\u001b[0;34m.\u001b[0m\u001b[0m_spn\u001b[0m\u001b[0;34m,\u001b[0m \u001b[0mplaceholder\u001b[0m\u001b[0;34m,\u001b[0m \u001b[0mrandom_state\u001b[0m\u001b[0;34m)\u001b[0m\u001b[0;34m\u001b[0m\u001b[0;34m\u001b[0m\u001b[0m\n\u001b[0m\u001b[1;32m    190\u001b[0m         \u001b[0mprint\u001b[0m\u001b[0;34m(\u001b[0m\u001b[0ms\u001b[0m\u001b[0;34m)\u001b[0m\u001b[0;34m\u001b[0m\u001b[0;34m\u001b[0m\u001b[0m\n\u001b[1;32m    191\u001b[0m         \u001b[0mindices\u001b[0m \u001b[0;34m\u003d\u001b[0m \u001b[0;34m[\u001b[0m\u001b[0mself\u001b[0m\u001b[0;34m.\u001b[0m\u001b[0m_initial_names_to_index\u001b[0m\u001b[0;34m[\u001b[0m\u001b[0mname\u001b[0m\u001b[0;34m]\u001b[0m \u001b[0;32mfor\u001b[0m \u001b[0mname\u001b[0m \u001b[0;32min\u001b[0m \u001b[0mself\u001b[0m\u001b[0;34m.\u001b[0m\u001b[0mnames\u001b[0m\u001b[0;34m]\u001b[0m\u001b[0;34m\u001b[0m\u001b[0;34m\u001b[0m\u001b[0m\n",
            "\u001b[0;32m~/apps/anaconda3/envs/modelbase/lib/python3.6/site-packages/spn/algorithms/Sampling.py\u001b[0m in \u001b[0;36msample_instances\u001b[0;34m(node, input_data, rand_gen, node_sampling, in_place)\u001b[0m\n\u001b[1;32m    102\u001b[0m \u001b[0;34m\u001b[0m\u001b[0m\n\u001b[1;32m    103\u001b[0m     eval_spn_top_down(\n\u001b[0;32m--\u003e 104\u001b[0;31m         \u001b[0mnode\u001b[0m\u001b[0;34m,\u001b[0m \u001b[0mnode_sampling\u001b[0m\u001b[0;34m,\u001b[0m \u001b[0mparent_result\u001b[0m\u001b[0;34m\u003d\u001b[0m\u001b[0minstance_ids\u001b[0m\u001b[0;34m,\u001b[0m \u001b[0mdata\u001b[0m\u001b[0;34m\u003d\u001b[0m\u001b[0mdata\u001b[0m\u001b[0;34m,\u001b[0m \u001b[0mlls_per_node\u001b[0m\u001b[0;34m\u003d\u001b[0m\u001b[0mlls_per_node\u001b[0m\u001b[0;34m,\u001b[0m \u001b[0mrand_gen\u001b[0m\u001b[0;34m\u003d\u001b[0m\u001b[0mrand_gen\u001b[0m\u001b[0;34m\u001b[0m\u001b[0;34m\u001b[0m\u001b[0m\n\u001b[0m\u001b[1;32m    105\u001b[0m     )\n\u001b[1;32m    106\u001b[0m \u001b[0;34m\u001b[0m\u001b[0m\n",
            "\u001b[0;32m~/apps/anaconda3/envs/modelbase/lib/python3.6/site-packages/spn/structure/Base.py\u001b[0m in \u001b[0;36meval_spn_top_down\u001b[0;34m(root, eval_functions, all_results, parent_result, **args)\u001b[0m\n\u001b[1;32m    401\u001b[0m                 \u001b[0meval_func\u001b[0m \u001b[0;34m\u003d\u001b[0m \u001b[0mleaf_func\u001b[0m\u001b[0;34m\u001b[0m\u001b[0;34m\u001b[0m\u001b[0m\n\u001b[1;32m    402\u001b[0m             \u001b[0;32melse\u001b[0m\u001b[0;34m:\u001b[0m\u001b[0;34m\u001b[0m\u001b[0;34m\u001b[0m\u001b[0m\n\u001b[0;32m--\u003e 403\u001b[0;31m                 \u001b[0;32mraise\u001b[0m \u001b[0mAssertionError\u001b[0m\u001b[0;34m(\u001b[0m\u001b[0;34m\"No lambda function associated with type: %s\"\u001b[0m \u001b[0;34m%\u001b[0m \u001b[0;34m(\u001b[0m\u001b[0mnode\u001b[0m\u001b[0;34m.\u001b[0m\u001b[0m__class__\u001b[0m\u001b[0;34m.\u001b[0m\u001b[0m__name__\u001b[0m\u001b[0;34m)\u001b[0m\u001b[0;34m)\u001b[0m\u001b[0;34m\u001b[0m\u001b[0;34m\u001b[0m\u001b[0m\n\u001b[0m\u001b[1;32m    404\u001b[0m \u001b[0;34m\u001b[0m\u001b[0m\n\u001b[1;32m    405\u001b[0m         \u001b[0mresult\u001b[0m \u001b[0;34m\u003d\u001b[0m \u001b[0meval_func\u001b[0m\u001b[0;34m(\u001b[0m\u001b[0mnode\u001b[0m\u001b[0;34m,\u001b[0m \u001b[0mparent_result\u001b[0m\u001b[0;34m,\u001b[0m \u001b[0;34m**\u001b[0m\u001b[0margs\u001b[0m\u001b[0;34m)\u001b[0m\u001b[0;34m\u001b[0m\u001b[0;34m\u001b[0m\u001b[0m\n",
            "\u001b[0;31mAssertionError\u001b[0m: No lambda function associated with type: Histogram"
          ],
          "ename": "AssertionError",
          "evalue": "No lambda function associated with type: Histogram",
          "output_type": "error"
        }
      ],
      "source": "mspn_model.sample()\n",
      "metadata": {
        "pycharm": {
          "metadata": false,
          "name": "#%% \n",
          "is_executing": false
        }
      }
    }
  ],
  "metadata": {
    "language_info": {
      "codemirror_mode": {
        "name": "ipython",
        "version": 2
      },
      "file_extension": ".py",
      "mimetype": "text/x-python",
      "name": "python",
      "nbconvert_exporter": "python",
      "pygments_lexer": "ipython2",
      "version": "2.7.6"
    },
    "kernelspec": {
      "name": "python3",
      "language": "python",
      "display_name": "Python 3"
    },
    "stem_cell": {
      "cell_type": "raw",
      "source": "",
      "metadata": {
        "pycharm": {
          "metadata": false
        }
      }
    }
  },
  "nbformat": 4,
  "nbformat_minor": 0
}