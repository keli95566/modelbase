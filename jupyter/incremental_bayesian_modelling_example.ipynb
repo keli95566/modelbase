{
 "cells": [
  {
   "cell_type": "code",
   "execution_count": 4,
   "metadata": {},
   "outputs": [],
   "source": [
    "import numpy as np\n",
    "import pandas as pd\n",
    "import pymc3 as pm\n",
    "from mb_modelbase.models_core.models import Model\n",
    "from mb_modelbase.models_core.pyMC3_model import ProbabilisticPymc3Model\n",
    "from mb_modelbase.models_core.empirical_model import EmpiricalModel\n",
    "import theano\n",
    "from scripts.run_conf import cfg as user_cfg\n",
    "import os\n",
    "import timeit"
   ]
  },
  {
   "cell_type": "code",
   "execution_count": 17,
   "metadata": {},
   "outputs": [],
   "source": [
    "path_for_fitted_models = '/home/luca_ph/Documents/projects/graphical_models/code/models_ppl'"
   ]
  },
  {
   "cell_type": "code",
   "execution_count": 18,
   "metadata": {},
   "outputs": [],
   "source": [
    "## create \"observed\" data\n",
    "np.random.seed(123)\n",
    "alpha, sigma = 1, 1\n",
    "beta_0 = 1\n",
    "beta_1 = 2.5\n",
    "size = 100\n",
    "X1 = np.random.randn(size)\n",
    "X2 = np.random.randn(size) * 0.2\n",
    "Y = alpha + beta_0 * X1 + beta_1 * X2 + np.random.randn(size) * sigma\n",
    "data = pd.DataFrame({'X1': X1, 'X2': X2, 'Y': Y})"
   ]
  },
  {
   "cell_type": "code",
   "execution_count": 23,
   "metadata": {},
   "outputs": [
    {
     "name": "stderr",
     "output_type": "stream",
     "text": [
      "12:17:32.579 INFO :: Auto-assigning NUTS sampler...\n",
      "12:17:32.580 INFO :: Initializing NUTS using jitter+adapt_diag...\n",
      "12:17:34.346 INFO :: Sequential sampling (1 chains in 1 job)\n",
      "12:17:34.346 INFO :: NUTS: [sigma, beta_1, beta_0, alpha]\n",
      "12:17:35.389 INFO :: Only one chain was sampled, this makes it impossible to run some convergence checks\n",
      "100%|██████████| 500/500 [00:00<00:00, 530.94it/s]\n"
     ]
    }
   ],
   "source": [
    "# create PPL model with PyMC3\n",
    "basic_model = pm.Model()\n",
    "modelname = \"pymc3_simple\"\n",
    "emp_modelname =\"pymc3_simple_emp\"\n",
    "\n",
    "with basic_model:\n",
    "    # Priors for unknown model parameters\n",
    "    alpha = pm.Normal('alpha', mu=0, sd=10)\n",
    "    beta_0 = pm.Normal('beta_0', mu=0, sd=10)\n",
    "    beta_1 = pm.Normal('beta_1', mu=0, sd=20)\n",
    "    sigma = pm.HalfNormal('sigma', sd=5)\n",
    "    \n",
    "    # Expected value of outcome\n",
    "    mu = alpha + beta_0 * data['X1'] + beta_1 * data['X2']\n",
    "    \n",
    "    # Likelihood (sampling distribution) of observations\n",
    "    Y = pm.Normal('Y', mu=mu, sd=sigma, observed=data['Y'])\n",
    "    X1 = pm.Normal('X1', mu=data['X1'], sd=sigma, observed=data['X1'])\n",
    "    X2 = pm.Normal('X2', mu=data['X2'], sd=sigma, observed=data['X2'])\n",
    "    \n",
    "    model = ProbabilisticPymc3Model(modelname, basic_model)\n",
    "    model.fit(data)"
   ]
  },
  {
   "cell_type": "code",
   "execution_count": 24,
   "metadata": {},
   "outputs": [
    {
     "data": {
      "text/plain": [
       "'/home/luca_ph/Documents/projects/graphical_models/code/models_ppl/pymc3_simple.mdl'"
      ]
     },
     "execution_count": 24,
     "metadata": {},
     "output_type": "execute_result"
    }
   ],
   "source": [
    "# save model\n",
    "model.set_empirical_model_name(emp_modelname)\n",
    "model.save(path_for_fitted_models)"
   ]
  },
  {
   "cell_type": "code",
   "execution_count": 30,
   "metadata": {},
   "outputs": [
    {
     "name": "stderr",
     "output_type": "stream",
     "text": [
      "12:24:41.147 INFO :: Auto-assigning NUTS sampler...\n",
      "12:24:41.148 INFO :: Initializing NUTS using jitter+adapt_diag...\n",
      "12:24:45.538 INFO :: Sequential sampling (1 chains in 1 job)\n",
      "12:24:45.539 INFO :: NUTS: [sigma, beta_1, beta_0, alpha]\n",
      "12:24:47.050 WARNING :: The acceptance probability does not match the target. It is 0.9025513388277393, but should be close to 0.8. Try to increase the number of tuning steps.\n",
      "12:24:47.051 INFO :: Only one chain was sampled, this makes it impossible to run some convergence checks\n",
      "100%|██████████| 500/500 [00:01<00:00, 286.32it/s]\n"
     ]
    },
    {
     "data": {
      "text/plain": [
       "'/home/luca_ph/Documents/projects/graphical_models/code/models_ppl/pymc3_simple2.mdl'"
      ]
     },
     "execution_count": 30,
     "metadata": {},
     "output_type": "execute_result"
    }
   ],
   "source": [
    "# create modified PPL model with PyMC3\n",
    "basic_model = pm.Model()\n",
    "modelname = \"pymc3_simple2\"\n",
    "emp_modelname =\"pymc3_simple_emp\"\n",
    "\n",
    "with basic_model:\n",
    "    # Priors for unknown model parameters\n",
    "    alpha = pm.Uniform('alpha')\n",
    "    beta_0 = pm.Normal('beta_0', mu=20, sd=1)\n",
    "    beta_1 = pm.unIF('beta_1', mu=5, sd=1)\n",
    "    sigma = pm.HalfNormal('sigma', sd=1)\n",
    "    \n",
    "    # Expected value of outcome\n",
    "    mu = alpha + beta_0 * data['X1'] + beta_1 * data['X2']\n",
    "    \n",
    "    # Likelihood (sampling distribution) of observations\n",
    "    Y = pm.Normal('Y', mu=mu, sd=sigma, observed=data['Y'])\n",
    "    X1 = pm.Normal('X1', mu=data['X1'], sd=sigma, observed=data['X1'])\n",
    "    X2 = pm.Normal('X2', mu=data['X2'], sd=sigma, observed=data['X2'])\n",
    "    \n",
    "    model = ProbabilisticPymc3Model(modelname, basic_model)\n",
    "    model.fit(data)\n",
    "    \n",
    "model.set_empirical_model_name(emp_modelname)\n",
    "model.save(path_for_fitted_models)"
   ]
  },
  {
   "cell_type": "code",
   "execution_count": 21,
   "metadata": {},
   "outputs": [
    {
     "data": {
      "text/plain": [
       "'/home/luca_ph/Documents/projects/graphical_models/code/models_ppl/pymc3_simple_emp.mdl'"
      ]
     },
     "execution_count": 21,
     "metadata": {},
     "output_type": "execute_result"
    }
   ],
   "source": [
    "# create empirical model\n",
    "# this is required to allows training data related facets in the front-end\n",
    "emp_model = EmpiricalModel(name=emp_modelname)\n",
    "emp_model.fit(df=data)\n",
    "emp_model.save(modelpath)"
   ]
  },
  {
   "cell_type": "code",
   "execution_count": null,
   "metadata": {},
   "outputs": [],
   "source": []
  }
 ],
 "metadata": {
  "kernelspec": {
   "display_name": "Python 3",
   "language": "python",
   "name": "python3"
  },
  "language_info": {
   "codemirror_mode": {
    "name": "ipython",
    "version": 3
   },
   "file_extension": ".py",
   "mimetype": "text/x-python",
   "name": "python",
   "nbconvert_exporter": "python",
   "pygments_lexer": "ipython3",
   "version": "3.6.6"
  }
 },
 "nbformat": 4,
 "nbformat_minor": 2
}
