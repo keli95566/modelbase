{
 "cells": [
  {
   "cell_type": "markdown",
   "metadata": {},
   "source": [
    "## Playground for querying a modelbase without a webserver"
   ]
  },
  {
   "cell_type": "code",
   "execution_count": 7,
   "metadata": {},
   "outputs": [],
   "source": [
    "import json\n",
    "from mb_modelbase.server import modelbase as mbase\n",
    "mb = mbase.ModelBase(name=\"kindergarden\", model_dir='./data_models')"
   ]
  },
  {
   "cell_type": "code",
   "execution_count": 12,
   "metadata": {},
   "outputs": [],
   "source": [
    "query = {\n",
    "    'FROM': 'mcg_iris_map',\n",
    "    'PCI_GRAPH.GET': True,\n",
    "}\n",
    "result = mb.execute(query)"
   ]
  },
  {
   "cell_type": "code",
   "execution_count": 14,
   "metadata": {},
   "outputs": [
    {
     "name": "stdout",
     "output_type": "stream",
     "text": [
      "{\n",
      "   \"graph\": {\n",
      "      \"edges\": [\n",
      "         {\n",
      "            \"source\": \"species\",\n",
      "            \"target\": \"sepal_width\",\n",
      "            \"weight\": 0.6502314856724126\n",
      "         },\n",
      "         {\n",
      "            \"source\": \"species\",\n",
      "            \"target\": \"petal_length\",\n",
      "            \"weight\": 0.1978075960679807\n",
      "         },\n",
      "         {\n",
      "            \"source\": \"species\",\n",
      "            \"target\": \"petal_width\",\n",
      "            \"weight\": 1.6045693081992065\n",
      "         },\n",
      "         {\n",
      "            \"source\": \"sepal_length\",\n",
      "            \"target\": \"sepal_width\",\n",
      "            \"weight\": 0.156489367995165\n",
      "         },\n",
      "         {\n",
      "            \"source\": \"sepal_length\",\n",
      "            \"target\": \"petal_length\",\n",
      "            \"weight\": 1.5257422773999083\n",
      "         },\n",
      "         {\n",
      "            \"source\": \"sepal_width\",\n",
      "            \"target\": \"petal_length\",\n",
      "            \"weight\": 0.36782718736054554\n",
      "         },\n",
      "         {\n",
      "            \"source\": \"petal_length\",\n",
      "            \"target\": \"petal_width\",\n",
      "            \"weight\": 2.3432111932318302\n",
      "         }\n",
      "      ],\n",
      "      \"nodes\": {\n",
      "         \"0\": \"species\",\n",
      "         \"1\": \"sepal_length\",\n",
      "         \"2\": \"sepal_width\",\n",
      "         \"3\": \"petal_length\",\n",
      "         \"4\": \"petal_width\"\n",
      "      }\n",
      "   },\n",
      "   \"model\": \"mcg_iris_map\"\n",
      "}\n"
     ]
    }
   ],
   "source": [
    "parsed = json.loads(result)\n",
    "print(json.dumps(parsed, indent=3, sort_keys=True))"
   ]
  }
 ],
 "metadata": {
  "kernelspec": {
   "display_name": "Python 3",
   "language": "python",
   "name": "python3"
  },
  "language_info": {
   "codemirror_mode": {
    "name": "ipython",
    "version": 3
   },
   "file_extension": ".py",
   "mimetype": "text/x-python",
   "name": "python",
   "nbconvert_exporter": "python",
   "pygments_lexer": "ipython3",
   "version": "3.6.6"
  }
 },
 "nbformat": 4,
 "nbformat_minor": 2
}
