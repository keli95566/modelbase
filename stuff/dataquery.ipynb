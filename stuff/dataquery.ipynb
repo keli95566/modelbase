{
 "cells": [
  {
   "cell_type": "markdown",
   "metadata": {
    "collapsed": true
   },
   "source": [
    "# Backing PQL Queries with Data - thoughts on implementation"
   ]
  },
  {
   "cell_type": "markdown",
   "metadata": {},
   "source": [
    "The following section describe how to map and implement each clause of PQL queries to corresponding data\n",
    "if queries."
   ]
  },
  {
   "cell_type": "markdown",
   "metadata": {},
   "source": [
    "I decided to implement the data backend in pandas as well. This is in order to reduce the work stack complexity. The alternative would be to implement it using some ORM (Object-Relational-Mapper) (e.g. SQL-Alchemy) and some SQL DBMS (e.g. sqlite3). But it appears to me that this add drastic new complexity and requries me to learn a lot of new things that I can implement more easilty using pandas. "
   ]
  },
  {
   "cell_type": "markdown",
   "metadata": {},
   "source": [
    "## Handling of Data - or: when to copy"
   ]
  },
  {
   "cell_type": "markdown",
   "metadata": {},
   "source": [
    "naively we could just copy data on each copy of a model. that works. However, we could also copy data whenever we change it instead, but when copying a whole model just copying a reference (as it is unchanged). Also, we can leave it unchanged when we only require a few on (parts of) the data. This could help save quite some space and time. I'm unsure about the implications of object serialization, however.\n",
    "\n",
    "Also, this required probably good knowledge about the view-vs-copy issue: read about it!\n",
    "http://pandas.pydata.org/pandas-docs/stable/indexing.html#indexing-view-versus-copy"
   ]
  },
  {
   "cell_type": "markdown",
   "metadata": {},
   "source": [
    "## Order of 'excecution' of clauses"
   ]
  },
  {
   "cell_type": "markdown",
   "metadata": {},
   "source": [
    "it appears to be entirely analogous to the model 'predict' workflow:\n",
    "\n",
    "1. get sub data-frame of interest\n",
    "2. apply non-aggregation/density filters\n",
    "3. do splitting\n",
    "4. calculate aggregations and frequencies\n",
    "2. apply aggregation/frequency filters"
   ]
  },
  {
   "cell_type": "markdown",
   "metadata": {},
   "source": [
    "## SPLIT-clause "
   ]
  },
  {
   "cell_type": "markdown",
   "metadata": {},
   "source": [
    "Group-By (i.e. the .groupby method on Pandas DataFrames) generates group by mean of some mapping of labels to group names. Such a mapping can be anything, and most importantly also a function which returns a group name for each label."
   ]
  },
  {
   "cell_type": "code",
   "execution_count": 8,
   "metadata": {
    "collapsed": false
   },
   "outputs": [
    {
     "name": "stdout",
     "output_type": "stream",
     "text": [
      "  species   sex  index   FL   RW    CL    CW   BD\n",
      "0    Blue  Male      1  8.1  6.7  16.1  19.0  7.0\n",
      "1    Blue  Male      2  8.8  7.7  18.1  20.8  7.4\n",
      "2    Blue  Male      3  9.2  7.8  19.0  22.4  7.7\n",
      "3    Blue  Male      4  9.6  7.9  20.1  23.1  8.2\n",
      "4    Blue  Male      5  9.8  8.0  20.3  23.0  8.2\n"
     ]
    }
   ],
   "source": [
    "# load some data frame to play with\n",
    "import pandas as pd\n",
    "import numpy as np\n",
    "df = pd.read_csv('../data/crabs/australian-crabs.csv')\n",
    "print(df.head())"
   ]
  },
  {
   "cell_type": "markdown",
   "metadata": {},
   "source": [
    "Splitting by elements is easy: just use groupby(columnname)"
   ]
  },
  {
   "cell_type": "code",
   "execution_count": 6,
   "metadata": {
    "collapsed": false
   },
   "outputs": [
    {
     "name": "stdout",
     "output_type": "stream",
     "text": [
      "keys:  ['sex', 'species']\n",
      "groups:  {('Male', 'Blue'): [0, 1, 2, 3, 4, 5, 6, 7, 8, 9, 10, 11, 12, 13, 14, 15, 16, 17, 18, 19, 20, 21, 22, 23, 24, 25, 26, 27, 28, 29, 30, 31, 32, 33, 34, 35, 36, 37, 38, 39, 40, 41, 42, 43, 44, 45, 46, 47, 48, 49], ('Female', 'Blue'): [50, 51, 52, 53, 54, 55, 56, 57, 58, 59, 60, 61, 62, 63, 64, 65, 66, 67, 68, 69, 70, 71, 72, 73, 74, 75, 76, 77, 78, 79, 80, 81, 82, 83, 84, 85, 86, 87, 88, 89, 90, 91, 92, 93, 94, 95, 96, 97, 98, 99], ('Male', 'Orange'): [100, 101, 102, 103, 104, 105, 106, 107, 108, 109, 110, 111, 112, 113, 114, 115, 116, 117, 118, 119, 120, 121, 122, 123, 124, 125, 126, 127, 128, 129, 130, 131, 132, 133, 134, 135, 136, 137, 138, 139, 140, 141, 142, 143, 144, 145, 146, 147, 148, 149], ('Female', 'Orange'): [150, 151, 152, 153, 154, 155, 156, 157, 158, 159, 160, 161, 162, 163, 164, 165, 166, 167, 168, 169, 170, 171, 172, 173, 174, 175, 176, 177, 178, 179, 180, 181, 182, 183, 184, 185, 186, 187, 188, 189, 190, 191, 192, 193, 194, 195, 196, 197, 198, 199]}\n"
     ]
    }
   ],
   "source": [
    "columns = ['sex','species']\n",
    "group = df.groupby(columns)\n",
    "print('keys: ', group.keys)\n",
    "print('groups: ', group.groups)\n"
   ]
  },
  {
   "cell_type": "markdown",
   "metadata": {},
   "source": [
    "But how about splitting into bins? i.e. split that use the equiDist method in my PQL queries?\n",
    "I think the way to go is to first do binning and add a group column (index) as a result of that binning. That index can then be used together with those column that we 'elements'-split on."
   ]
  },
  {
   "cell_type": "code",
   "execution_count": 11,
   "metadata": {
    "collapsed": false
   },
   "outputs": [],
   "source": [
    "colname = 'RW'  # column to bin \n",
    "bin_edges = np.arange(11)  # sequence of bin edges. in real this is gonna be \n",
    "bin_colname = 'bins'  # need to use some generator for unique names later\n",
    " \n",
    "df[bin_colname] = pd.cut(df[colname], bin_edges, include_lowest=True)  # include lower edge to cover the entire range\n",
    "\n",
    "elem_split_names = ['sex']  # other columns to split by by elements\n",
    "\n",
    "# now do entire grouping at once\n",
    "grps = df.groupby(elem_split_names + [bin_colname])"
   ]
  },
  {
   "cell_type": "code",
   "execution_count": 12,
   "metadata": {
    "collapsed": false
   },
   "outputs": [
    {
     "name": "stdout",
     "output_type": "stream",
     "text": [
      "{('Male', '(9, 10]'): [6, 7, 8, 12, 104, 105], ('Female', nan): [62, 63, 64, 65, 66, 67, 68, 69, 70, 71, 72, 73, 74, 75, 76, 77, 78, 79, 80, 81, 82, 83, 84, 85, 86, 87, 88, 89, 90, 91, 92, 93, 94, 95, 96, 97, 98, 99, 153, 154, 155, 156, 157, 158, 159, 160, 161, 162, 163, 164, 165, 166, 167, 168, 169, 170, 171, 172, 173, 174, 175, 176, 177, 178, 179, 180, 181, 182, 183, 184, 185, 186, 187, 188, 189, 190, 191, 192, 193, 194, 195, 196, 197, 198, 199], ('Male', '(8, 9]'): [5, 101, 102, 103], ('Female', '(8, 9]'): [51, 52, 53, 54, 55], ('Female', '(9, 10]'): [56, 57, 58, 59, 60, 61, 150, 151, 152], ('Male', '(6, 7]'): [0, 100], ('Male', nan): [9, 10, 11, 13, 14, 15, 16, 17, 18, 19, 20, 21, 22, 23, 24, 25, 26, 27, 28, 29, 30, 31, 32, 33, 34, 35, 36, 37, 38, 39, 40, 41, 42, 43, 44, 45, 46, 47, 48, 49, 106, 107, 108, 109, 110, 111, 112, 113, 114, 115, 116, 117, 118, 119, 120, 121, 122, 123, 124, 125, 126, 127, 128, 129, 130, 131, 132, 133, 134, 135, 136, 137, 138, 139, 140, 141, 142, 143, 144, 145, 146, 147, 148, 149], ('Male', '(7, 8]'): [1, 2, 3, 4], ('Female', '(6, 7]'): [50]}\n"
     ]
    }
   ],
   "source": [
    "print(grps.groups)"
   ]
  },
  {
   "cell_type": "markdown",
   "metadata": {},
   "source": [
    "## PREDICT-clause"
   ]
  },
  {
   "cell_type": "markdown",
   "metadata": {},
   "source": [
    "### PREDICT-clause (no aggregation)"
   ]
  },
  {
   "cell_type": "markdown",
   "metadata": {},
   "source": [
    "that's easy: just select the columns using some of the many indexing methods"
   ]
  },
  {
   "cell_type": "code",
   "execution_count": 13,
   "metadata": {
    "collapsed": true
   },
   "outputs": [],
   "source": [
    "colnames = ['FL','sex']"
   ]
  },
  {
   "cell_type": "markdown",
   "metadata": {},
   "source": [
    "using .loc"
   ]
  },
  {
   "cell_type": "code",
   "execution_count": 17,
   "metadata": {
    "collapsed": false
   },
   "outputs": [
    {
     "name": "stdout",
     "output_type": "stream",
     "text": [
      "    FL   sex\n",
      "0  8.1  Male\n",
      "1  8.8  Male\n",
      "2  9.2  Male\n",
      "3  9.6  Male\n",
      "4  9.8  Male\n"
     ]
    }
   ],
   "source": [
    "selection = df.loc[:,colnames]\n",
    "print(selection.head())"
   ]
  },
  {
   "cell_type": "markdown",
   "metadata": {},
   "source": [
    "using the [] operator:"
   ]
  },
  {
   "cell_type": "code",
   "execution_count": 19,
   "metadata": {
    "collapsed": false
   },
   "outputs": [
    {
     "name": "stdout",
     "output_type": "stream",
     "text": [
      "    FL   sex\n",
      "0  8.1  Male\n",
      "1  8.8  Male\n",
      "2  9.2  Male\n",
      "3  9.6  Male\n",
      "4  9.8  Male\n"
     ]
    }
   ],
   "source": [
    "selection = df[colnames]\n",
    "print(selection.head())"
   ]
  },
  {
   "cell_type": "markdown",
   "metadata": {},
   "source": [
    "### PREDICT-clause (aggregations)"
   ]
  },
  {
   "cell_type": "markdown",
   "metadata": {},
   "source": [
    "we want to support the following aggregations:\n",
    "  \n",
    "  * average: average value of a group \n",
    "  * maximum: maximum value within a group\n",
    "  "
   ]
  },
  {
   "cell_type": "markdown",
   "metadata": {},
   "source": [
    "### PREDICT-clause (density)"
   ]
  },
  {
   "cell_type": "markdown",
   "metadata": {},
   "source": [
    "uh... not sure yet. we could of course return the size of each group, i.e. the frequency of observaion"
   ]
  },
  {
   "cell_type": "markdown",
   "metadata": {},
   "source": [
    "## WHERE-clause"
   ]
  },
  {
   "cell_type": "markdown",
   "metadata": {},
   "source": [
    "we have a number of difference condition/filter/where's that we want to support:\n",
    "\n",
    "  * equals (a singluar value)\n",
    "  * in (element of a set of values)\n",
    "  * in (a range of [min, max]\n",
    "  * greater \n",
    "  * less\n",
    "\n",
    "Generally it seems like we can express everything we want using .loc and selecitons by callables.\n",
    "The point of callables is that we can chain, since it is evaluated on the object it is called on rather than some local variable  "
   ]
  },
  {
   "cell_type": "markdown",
   "metadata": {},
   "source": [
    "### WHERE-clause (equals)"
   ]
  },
  {
   "cell_type": "code",
   "execution_count": 20,
   "metadata": {
    "collapsed": false
   },
   "outputs": [
    {
     "name": "stdout",
     "output_type": "stream",
     "text": [
      "   species     sex  index   FL   RW    CL    CW   BD    bins\n",
      "50    Blue  Female      1  7.2  6.5  14.7  17.1  6.1  (6, 7]\n",
      "51    Blue  Female      2  9.0  8.5  19.3  22.7  7.7  (8, 9]\n",
      "52    Blue  Female      3  9.1  8.1  18.5  21.6  7.7  (8, 9]\n",
      "53    Blue  Female      4  9.1  8.2  19.2  22.2  7.7  (8, 9]\n",
      "54    Blue  Female      5  9.5  8.2  19.6  22.4  7.8  (8, 9]\n",
      "   species     sex  index   FL   RW    CL    CW   BD    bins\n",
      "50    Blue  Female      1  7.2  6.5  14.7  17.1  6.1  (6, 7]\n",
      "51    Blue  Female      2  9.0  8.5  19.3  22.7  7.7  (8, 9]\n",
      "52    Blue  Female      3  9.1  8.1  18.5  21.6  7.7  (8, 9]\n",
      "53    Blue  Female      4  9.1  8.2  19.2  22.2  7.7  (8, 9]\n",
      "54    Blue  Female      5  9.5  8.2  19.6  22.4  7.8  (8, 9]\n"
     ]
    }
   ],
   "source": [
    "value = 'Female'\n",
    "colname = 'sex'\n",
    "filtered = df.loc[df[colname] == value]\n",
    "print(filtered.head())\n",
    "#or\n",
    "filtered = df.loc[lambda df:df[colname] == value]\n",
    "print(filtered.head())"
   ]
  },
  {
   "cell_type": "markdown",
   "metadata": {},
   "source": [
    "### WHERE-clause (in set of elements)"
   ]
  },
  {
   "cell_type": "code",
   "execution_count": 23,
   "metadata": {
    "collapsed": false
   },
   "outputs": [
    {
     "name": "stdout",
     "output_type": "stream",
     "text": [
      "   species     sex  index   FL   RW    CL    CW   BD    bins\n",
      "50    Blue  Female      1  7.2  6.5  14.7  17.1  6.1  (6, 7]\n",
      "51    Blue  Female      2  9.0  8.5  19.3  22.7  7.7  (8, 9]\n",
      "52    Blue  Female      3  9.1  8.1  18.5  21.6  7.7  (8, 9]\n",
      "53    Blue  Female      4  9.1  8.2  19.2  22.2  7.7  (8, 9]\n",
      "54    Blue  Female      5  9.5  8.2  19.6  22.4  7.8  (8, 9]\n",
      "   species     sex  index   FL   RW    CL    CW   BD    bins\n",
      "50    Blue  Female      1  7.2  6.5  14.7  17.1  6.1  (6, 7]\n",
      "51    Blue  Female      2  9.0  8.5  19.3  22.7  7.7  (8, 9]\n",
      "52    Blue  Female      3  9.1  8.1  18.5  21.6  7.7  (8, 9]\n",
      "53    Blue  Female      4  9.1  8.2  19.2  22.2  7.7  (8, 9]\n",
      "54    Blue  Female      5  9.5  8.2  19.6  22.4  7.8  (8, 9]\n"
     ]
    }
   ],
   "source": [
    "values = ['Female']\n",
    "col = 'sex'\n",
    "filtered = df.loc[df[col].isin(values)]\n",
    "print(filtered.head())\n",
    "#or\n",
    "filtered = df.loc[lambda df: df[col].isin(values)]\n",
    "print(filtered.head())"
   ]
  },
  {
   "cell_type": "markdown",
   "metadata": {},
   "source": [
    "### WHERE-clause (in a range)"
   ]
  },
  {
   "cell_type": "markdown",
   "metadata": {},
   "source": [
    "this is a combination of 'less' and 'greater' ... anyway:"
   ]
  },
  {
   "cell_type": "code",
   "execution_count": 24,
   "metadata": {
    "collapsed": false
   },
   "outputs": [
    {
     "name": "stdout",
     "output_type": "stream",
     "text": [
      "   species     sex  index   FL   RW    CL    CW   BD    bins\n",
      "1     Blue    Male      2  8.8  7.7  18.1  20.8  7.4  (7, 8]\n",
      "2     Blue    Male      3  9.2  7.8  19.0  22.4  7.7  (7, 8]\n",
      "3     Blue    Male      4  9.6  7.9  20.1  23.1  8.2  (7, 8]\n",
      "4     Blue    Male      5  9.8  8.0  20.3  23.0  8.2  (7, 8]\n",
      "51    Blue  Female      2  9.0  8.5  19.3  22.7  7.7  (8, 9]\n"
     ]
    }
   ],
   "source": [
    "r = {'l': 8.1, 'h': 10}\n",
    "col = 'FL'\n",
    "filtered = df.loc[lambda df:(df.FL < r['h']) & (df.FL > r['l'])]\n",
    "print(filtered.head())"
   ]
  },
  {
   "cell_type": "markdown",
   "metadata": {},
   "source": [
    "### WHERE-clause (less and greater)"
   ]
  },
  {
   "cell_type": "markdown",
   "metadata": {},
   "source": [
    "this is just like 'in a range' but simpler ..."
   ]
  },
  {
   "cell_type": "code",
   "execution_count": null,
   "metadata": {
    "collapsed": true
   },
   "outputs": [],
   "source": []
  }
 ],
 "metadata": {
  "kernelspec": {
   "display_name": "Python 3",
   "language": "python",
   "name": "python3"
  },
  "language_info": {
   "codemirror_mode": {
    "name": "ipython",
    "version": 3
   },
   "file_extension": ".py",
   "mimetype": "text/x-python",
   "name": "python",
   "nbconvert_exporter": "python",
   "pygments_lexer": "ipython3",
   "version": "3.5.2"
  }
 },
 "nbformat": 4,
 "nbformat_minor": 0
}
