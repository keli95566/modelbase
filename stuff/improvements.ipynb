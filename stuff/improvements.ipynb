{
 "cells": [
  {
   "cell_type": "markdown",
   "metadata": {
    "collapsed": true
   },
   "source": [
    "## matze"
   ]
  },
  {
   "cell_type": "markdown",
   "metadata": {},
   "source": [
    "see also: https://github.com/matthiasware/brickslayer/ \n",
    "\n",
    "* repair drag n drop\n",
    "\n",
    "name confusions:\n",
    "\n",
    " * dimensions vs measures\n",
    " * split, density, aggregation\n",
    " * \n",
    "\n",
    "wish list\n",
    "\n",
    " * focus lost on end-hover\n",
    " * resize visualization\n",
    " * mixture of gaussians\n",
    " * axes transformations\n",
    " * queries als string rausschreiben\n",
    " \n",
    "jede (beliebige) interaktion muss zu einer gültigen visualierung führen\n",
    "interaktion muss schneller zum Ziel führen\n",
    "\n",
    "visualisierungsbibliothek verwenden um die plots zu machen\n",
    "  * bokeh??\n",
    "  \n",
    "interaktionsidee:\n",
    " * abspeichern/laden von konfigurationen / workbench\n",
    " * rumschieben, \"klein\" machen (\"thumbnails\") von plots, resize\n",
    " * so eine Art \"Show me\" / mit den Modellen auch Beispiele zur Visualierung abspeichern\n",
    "\n",
    "templates für bestimmte beliebte plots:\n",
    " * scatter matrix\n",
    " * density\n",
    "\n",
    "write test when you code\n",
    "\n",
    "ask people for feedback!!"
   ]
  },
  {
   "cell_type": "code",
   "execution_count": null,
   "metadata": {
    "collapsed": true
   },
   "outputs": [],
   "source": []
  }
 ],
 "metadata": {
  "kernelspec": {
   "display_name": "Python 3",
   "language": "python",
   "name": "python3"
  },
  "language_info": {
   "codemirror_mode": {
    "name": "ipython",
    "version": 3
   },
   "file_extension": ".py",
   "mimetype": "text/x-python",
   "name": "python",
   "nbconvert_exporter": "python",
   "pygments_lexer": "ipython3",
   "version": "3.5.2"
  }
 },
 "nbformat": 4,
 "nbformat_minor": 0
}
